{
 "metadata": {
  "name": "",
  "signature": "sha256:937849990222ad57aace32796d4f4d425c18a3d81559cf5201b838886d31ba3b"
 },
 "nbformat": 3,
 "nbformat_minor": 0,
 "worksheets": [
  {
   "cells": [
    {
     "cell_type": "heading",
     "level": 1,
     "metadata": {},
     "source": [
      "Semiconductor"
     ]
    },
    {
     "cell_type": "markdown",
     "metadata": {},
     "source": [
      "Semiconductor es un elemento que se comporta como un conductor o como aislante dependiendo de diversos factores, como por ejemplo el campo el\u00e9ctrico o magn\u00e9tico, la presi\u00f3n, la radiaci\u00f3n que le incide, o la temperatura del ambiente en el que se encuentre. Los elementos qu\u00edmicos semiconductores de la tabla peri\u00f3dica se indican en la tabla adjunta.\n",
      "\n",
      "<table>\n",
      "<tr>\n",
      "<th> Elemento </th><th> Grupos </th><th> Electrones en la \u00faltima capa </th>\n",
      "</tr>\n",
      "<tr>\n",
      "<td> Cd </td><td> 12 </td><td> $2e^{-}$ </td>\n",
      "</tr>\n",
      "<tr>\n",
      "<td> Al, Ga, B, In </td><td> 13 </td><td> $3e^{-}$ </td>\n",
      "</tr>\n",
      "<tr>\n",
      "<td> Si, C, Ge </td><td> 14 </td><td> $4e^{-}$  </td>\n",
      "</tr>\n",
      "<tr>\n",
      "<td> P, As, Sb </td><td> 15 </td><td> $5e^{-}$ </td>\n",
      "</tr>\n",
      "<tr>\n",
      "<td> Se, Te, (S) </td><td> 16 </td><td> $6e^{-}$ </td>\n",
      "</tr>\n",
      "</table>\n",
      "\n",
      "El elemento semiconductor m\u00e1s usado es el silicio, el segundo el germanio, aunque id\u00e9ntico comportamiento presentan las combinaciones de elementos de los grupos 12 y 13 con los de los grupos 14 y 15 respectivamente (~AsGa, ~PIn,~AsGaAl, ~TeCd, ~SeCd y ~SCd). Posteriormente se ha comenzado a emplear tambi\u00e9n el azufre. La caracter\u00edstica com\u00fan a todos ellos es que son tetravalentes, teniendo el silicio una configuraci\u00f3n electr\u00f3nica $s^{2}p^{2}$. La estructura cristalina se muestra en la siguiente figura:\n",
      "\n",
      "<p align=\"center\"><img src=\"/files/images/semi_intrinsico.png\" alt=\"una image\" title=\"Diodo de Vacio\" style=\"max-width:60%\" ></p>\n"
     ]
    },
    {
     "cell_type": "heading",
     "level": 2,
     "metadata": {},
     "source": [
      "Semiconductores intr\u00ednsecos"
     ]
    },
    {
     "cell_type": "markdown",
     "metadata": {},
     "source": [
      "Es un cristal de Silicio o Germanio que forma una estructura tetra\u00e9drica similar a la del carbono mediante enlaces covalentes entre sus \u00e1tomos, en la figura representados en el plano por simplicidad. Cuando el cristal se encuentra a temperatura ambiente algunos electrones pueden absorber la energ\u00eda necesaria para saltar a la banda de conducci\u00f3n dejando el correspondiente hueco en la [banda de valencia](Valencia.ipynb). Las energ\u00edas requeridas, a temperatura ambiente, son de 1,1 eV y 0,7 eV para el silicio y el germanio respectivamente, esto se ilustra en la siguiente figura:\n",
      "\n",
      "\n",
      "<p align=\"center\"><img src=\"/files/images/bandas_valencia.png\" alt=\"una image\" title=\"Diodo de Vacio\" style=\"max-width:60%\" ></p>\n",
      "\n",
      "Obviamente el proceso inverso tambi\u00e9n se produce, de modo que los electrones pueden caer, desde el estado energ\u00e9tico correspondiente a la banda de conducci\u00f3n, a un hueco en la banda de valencia liberando energ\u00eda. A este fen\u00f3meno se le denomina recombinaci\u00f3n. Sucede que, a una determinada temperatura, las velocidades de creaci\u00f3n de pares $e-h$, y de recombinaci\u00f3n se igualan, de modo que la concentraci\u00f3n global de electrones y huecos permanece constante. Siendo $n$ la concentraci\u00f3n de electrones (cargas negativas) y $p$ la concentraci\u00f3n de huecos (cargas positivas), se cumple que:\n",
      "\n",
      "$$\n",
      "n_{i} = n = p\n",
      "$$\n",
      "\n",
      "siendo $n_{i}$ la concentraci\u00f3n intr\u00ednseca del semiconductor, funci\u00f3n exclusiva de la temperatura y del tipo de elemento. El numero de portadores en un semiconductor se puede calcular con la expresi\u00f3n:\n",
      "\n",
      "\\begin{equation}\n",
      "n_{i}=BT^{\\frac{3}{2}}e^{\\frac{-E_{G}}{2kT}}\n",
      "\\end{equation}\n",
      "donde $B$ es un coeficiente relacionado con el material semiconductor, $E_{G}$ es el espacio de energ\u00eda entre bandas (eV) y $T$ es la temperatura (\u00b0K), $k$ es la constante de Boltzman.\n",
      "\n",
      "Los electrones y los huecos reciben el nombre de ''//portadores//''. En los semiconductores, ambos tipos de portadores contribuyen al paso de la corriente el\u00e9ctrica. Si se somete el cristal a una ''//diferencia de potencial//'' se producen dos corrientes el\u00e9ctricas. Por un lado la debida al movimiento de los electrones libres de la banda de conducci\u00f3n, y por otro, la debida al desplazamiento de los electrones en la banda de valencia, que tender\u00e1n a saltar a los huecos pr\u00f3ximos, originando una corriente de huecos con 4 capas ideales y en la direcci\u00f3n contraria al campo el\u00e9ctrico cuya velocidad y magnitud es muy inferior a la de la banda de conducci\u00f3n, esta corriente se le llama ''//Corriente Inversa de Saturaci\u00f3n//'',  la corriente total producida por el la aplicaci\u00f3n de la diferencia de potencial se llama ''//Corriente de Deriva//''.\n",
      "\n",
      "La densidad de corriente de deriva se calcula con la expresi\u00f3n\n",
      "\n",
      "\\begin{equation}\n",
      "J=(en\\mu_{n}+ep\\mu_{p})E\n",
      "\\end{equation}\n",
      "donde, $n$ es la concentraci\u00f3n de electrones ($\\#/cm^{2}$), $p$ es la concentraci\u00f3n de huecos ($\\#/cm^{2}$), $\\mu_{x}$ es la movilidad de portador ($cm^{2}/V-s$) y $e$ es la magnitud de la carga el\u00e9ctrica. De la expresi\u00f3n anterior y recordando la [Ley de Ohm] podemos definir la resistividad del semiconductor como:\n",
      "\\begin{equation}\n",
      "\\rho=\\frac{1}{en\\mu_{n}+ep\\mu_{p}}\n",
      "\\end{equation}\n",
      "donde las unidades de $\\rho$ son $\\Omega \\cdot cm$.\n",
      "\n",
      "Los materiales semiconductores como ya se mencion\u00f3 a diferencia de los aislantes, bajo ciertas circunstancias pueden conducir. En el caso del silicio a temperatura ambiente si se le aplica un potencial el\u00e9ctrico lo suficientemente ($V_{d}$) grande entra en modo de conducci\u00f3n sin sufrir da\u00f1o en su estructura cristalina. En la siguiente figura se muestra el comportamiento en la gr\u00e1fica Voltaje-Corriente.\n",
      "{{center{\n",
      "[img[images/V-I_intrinsico.png]]\n",
      "}}}\n",
      "Normalmente al voltaje necesario para que se de el fen\u00f3meno de conducci\u00f3n se le llama ''Voltaje de Disparo'' $V_{d}$.\n",
      "\n",
      "!Semiconductores extr\u00ednsecos\n",
      "\n",
      "Si a un semiconductor intr\u00ednseco, como el anterior, se le a\u00f1ade un peque\u00f1o porcentaje de impurezas, es decir, elementos trivalentes o pentavalentes, el semiconductor se denomina extr\u00ednseco, y se dice que est\u00e1 dopado. Evidentemente, las impurezas deber\u00e1n formar parte de la estructura cristalina sustituyendo al correspondiente \u00e1tomo de silicio. Hoy en dia se han logrado a\u00f1adir impurezas de una parte por cada 10 millones, logrando con ello una modificaci\u00f3n del material.\n",
      "\n",
      "!!Semiconductor tipo N\n",
      "\n",
      "Un Semiconductor tipo N se obtiene llevando a cabo un proceso de dopado a\u00f1adiendo un cierto tipo de \u00e1tomos al semiconductor para poder aumentar el n\u00famero de portadores de carga libres (en este caso negativos o electrones). Cuando se a\u00f1ade el material dopante aporta sus electrones m\u00e1s d\u00e9bilmente vinculados a los \u00e1tomos del semiconductor. Este tipo de agente dopante es tambi\u00e9n conocido como ''material donante'' ya que da algunos de sus electrones.\n",
      "\n",
      "El prop\u00f3sito del dopaje tipo n es el de producir abundancia de electrones portadores en el material. Para ayudar a entender c\u00f3mo se produce el dopaje tipo n consid\u00e9rese el caso del silicio (Si). Los \u00e1tomos del silicio tienen una valencia at\u00f3mica de cuatro, por lo que se forma un enlace covalente con cada uno de los \u00e1tomos de silicio adyacentes. Si un \u00e1tomo con cinco electrones de valencia, tales como los del grupo 15 de la tabla peri\u00f3dica (ej. f\u00f3sforo (P), ars\u00e9nico (As) o antimonio (Sb)), se incorpora a la red cristalina en el lugar de un \u00e1tomo de silicio, entonces ese \u00e1tomo tendr\u00e1 cuatro enlaces covalentes y un electr\u00f3n no enlazado. Este electr\u00f3n extra da como resultado la formaci\u00f3n de \"electrones libres\", el n\u00famero de electrones en el material supera ampliamente el n\u00famero de huecos, en ese caso los electrones son los portadores mayoritarios y los huecos son los portadores minoritarios. A causa de que los \u00e1tomos con cinco electrones de valencia tienen un electr\u00f3n extra que \"dar\", son llamados \u00e1tomos donadores. N\u00f3tese que cada electr\u00f3n libre en el semiconductor nunca est\u00e1 lejos de un ion dopante positivo inm\u00f3vil, y el material dopado tipo N generalmente tiene una carga el\u00e9ctrica neta final de cero.\n",
      "{{center{\n",
      "[img[images/semi_n.png]]\n",
      "}}}\n",
      "\n",
      "!!Semiconductor tipo P\n",
      "\n",
      "Un Semiconductor tipo P se obtiene llevando a cabo un proceso de dopado, a\u00f1adiendo un cierto tipo de \u00e1tomos al semiconductor para poder aumentar el n\u00famero de portadores de carga libres (en este caso positivos o huecos). Cuando se a\u00f1ade el material dopante libera los electrones m\u00e1s d\u00e9bilmente vinculados de los \u00e1tomos del semiconductor. Este agente dopante es tambi\u00e9n conocido como ''material aceptor'' y los \u00e1tomos del semiconductor que han perdido un electr\u00f3n son conocidos como huecos.\n",
      "\n",
      "El prop\u00f3sito del dopaje tipo P es el de crear abundancia de huecos. En el caso del silicio, un \u00e1tomo tetravalente (t\u00edpicamente del grupo 14 de la tabla peri\u00f3dica) se le une un \u00e1tomo con tres electrones de valencia, tales como los del grupo 13 de la tabla peri\u00f3dica (ej. Al, Ga, B, In), y se incorpora a la red cristalina en el lugar de un \u00e1tomo de silicio, entonces ese \u00e1tomo tendr\u00e1 tres enlaces covalentes y un hueco producido que se encontrar\u00e1 en condici\u00f3n de aceptar un electr\u00f3n libre. As\u00ed los dopantes crean los \"huecos\". No obstante, cuando cada hueco se ha desplazado por la red, un prot\u00f3n del \u00e1tomo situado en la posici\u00f3n del hueco se ve \"expuesto\" y en breve se ve equilibrado como una cierta carga positiva. Cuando un n\u00famero suficiente de aceptores son a\u00f1adidos, los huecos superan ampliamente la excitaci\u00f3n t\u00e9rmica de los electrones. As\u00ed, los huecos son los portadores mayoritarios, mientras que los electrones son los portadores minoritarios en los materiales tipo P. Los diamantes azules (tipo ~IIb), que contienen impurezas de boro (B), son un ejemplo de un semiconductor tipo P que se produce de manera natural.\n",
      "{{center{\n",
      "[img[images/semi_p.png]]\n",
      "}}}\n"
     ]
    },
    {
     "cell_type": "markdown",
     "metadata": {},
     "source": [
      "<center>Pagina escrita en Ipython por *Manuel Mois\u00e9s Miranda Velasco*</center>\n",
      "<script type=\"text/javascript\">\n",
      "    $('div.input').hide();\n",
      "</script>"
     ]
    }
   ],
   "metadata": {}
  }
 ]
}