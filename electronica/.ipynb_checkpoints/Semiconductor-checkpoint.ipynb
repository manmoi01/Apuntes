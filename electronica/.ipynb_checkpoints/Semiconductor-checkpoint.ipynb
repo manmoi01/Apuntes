{
 "metadata": {
  "name": "",
  "signature": "sha256:2556468f7ce5f5e7f882c498fae2dc9fd128d76d2657327445a3f8b261249995"
 },
 "nbformat": 3,
 "nbformat_minor": 0,
 "worksheets": []
}