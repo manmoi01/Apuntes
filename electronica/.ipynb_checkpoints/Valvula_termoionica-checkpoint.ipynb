{
 "metadata": {
  "name": "",
  "signature": "sha256:a8726b78e1eb2179c26b11e671ffb8e1893c51add35dc868e546bac6bdf23da3"
 },
 "nbformat": 3,
 "nbformat_minor": 0,
 "worksheets": [
  {
   "cells": [
    {
     "cell_type": "heading",
     "level": 1,
     "metadata": {},
     "source": [
      "La valvula termoionica"
     ]
    },
    {
     "cell_type": "markdown",
     "metadata": {},
     "source": [
      "Este es considerado el primer dispositivo de electr\u00f3nico, basa en el efecto de emisi\u00f3n termoi\u00f3nica.\n",
      "\n",
      "La emisi\u00f3n termoi\u00f3nica, conocida arcaicamente como efecto Edison es el flujo de part\u00edculas cargadas llamadas termoiones desde una superficie de metal (u \u00f3xido de metal) causada por una energ\u00eda t\u00e9rmica de tipo vibracional que provoca una fuerza electrost\u00e1tica que empuja a los electrones hacia la superficie. La carga de los termiones (que pueden ser positivos o negativos) ser\u00e1 la misma a la carga del metal u \u00f3xido de metal. El efecto aumenta dram\u00e1ticamente al subir la temperatura (1000\u20133000 K). La ciencia que estudia este fen\u00f3meno es la termoi\u00f3nica.\n",
      "\n",
      "Edison construy\u00f3 muchas bombillas experimentales, algunas con un filamento adicional y una con una l\u00e1mina met\u00e1lica dentro de la l\u00e1mpara, el\u00e9ctricamente aislada del filamento. Edison conect\u00f3 el electrodo adicional al filamento de la l\u00e1mpara a trav\u00e9s de un galvan\u00f3metro. Cuando la l\u00e1mina ten\u00eda una carga negativa superior a la del filamento, no flu\u00eda corriente entre el filamento y la misma porque al estar fr\u00edo emit\u00eda muy pocos electrones. Sin embargo, cuando carg\u00f3 la l\u00e1mina positivamente, la mayor\u00eda de electrones emitidos desde el filamento caliente fueron atra\u00eddos hacia ella causando un flujo de corriente estable. Esta forma de fluido el\u00e9ctrico en un solo sentido fue llamada entonces el efecto Edison (aunque el t\u00e9rmino se usa en ocasiones para referirse a la emisi\u00f3n termoi\u00f3nica espec\u00edficamente).\n",
      "\n",
      "\n",
      "<p align=\"center\"><img src=\"/files/images/efectoedison.png\" alt=\"una image\" title=\"Diodo de Vacio\" style=\"max-width:30%\" ></p>\n",
      "\n",
      "El comportamiento de conducci\u00f3n mostrado se conoce como __*Polarizaci\u00f3n Directa*__ y el comportamiento de no conducci\u00f3n como __*Polarizaci\u00f3n Inversa*__. El comportamiento de la bombilla de Edison se muestra en la siguiente gr\u00e1fica,\n",
      "\n",
      "<p align=\"center\"><img src=\"/files/images/curvadiodosimple.png\" alt=\"una image\" title=\"Diodo de Vacio\" style=\"max-width:30%\" ></p>\n",
      "\n",
      "Bas\u00e1ndose en las observaciones de Edison, se invento el __[Diodo](Diodo.ipynb)__ desarrollado en 1904 por John Ambrose Fleming, empleado de la empresa Marconi"
     ]
    },
    {
     "cell_type": "markdown",
     "metadata": {},
     "source": [
      "<center>Pagina escrita en Ipython por *Manuel Mois\u00e9s Miranda Velasco*</center>\n",
      "<script type=\"text/javascript\">\n",
      "    $('div.input').hide();\n",
      "</script>"
     ]
    }
   ],
   "metadata": {}
  }
 ]
}