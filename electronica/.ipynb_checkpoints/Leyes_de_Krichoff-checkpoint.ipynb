{
 "metadata": {
  "name": "",
  "signature": "sha256:b8d0c55505dd3af74f541e9a7c0be39ed3b813a4f5e683e4459522db58489e15"
 },
 "nbformat": 3,
 "nbformat_minor": 0,
 "worksheets": [
  {
   "cells": [
    {
     "cell_type": "heading",
     "level": 1,
     "metadata": {},
     "source": [
      "Leyed de Kirchoff"
     ]
    },
    {
     "cell_type": "markdown",
     "metadata": {},
     "source": [
      "Las leyes de Kirchhoff son dos igualdades que se basan en la conservaci\u00f3n de la energ\u00eda y la carga en los circuitos el\u00e9ctricos. Fueron descritas por primera vez en 1845 por Gustav Kirchhoff. Son ampliamente usadas en ingenier\u00eda el\u00e9ctrica.\n",
      "Ambas leyes de circuitos pueden derivarse directamente de las ecuaciones de Maxwell, pero Kirchhoff precedi\u00f3 a Maxwell y gracias a Georg Ohm su trabajo fue generalizado. Estas leyes son muy utilizadas en ingenier\u00eda el\u00e9ctrica para hallar corrientes y tensiones en cualquier punto de un circuito el\u00e9ctrico.\n"
     ]
    },
    {
     "cell_type": "heading",
     "level": 2,
     "metadata": {},
     "source": [
      "Ley de corrientes de Kirchhoff (LKC)\n"
     ]
    },
    {
     "cell_type": "markdown",
     "metadata": {},
     "source": [
      "En cualquier nodo, la suma de las corrientes que entran en ese nodo es igual a la suma de las corrientes que salen. De forma equivalente, la suma de todas las corrientes que pasan por el nodo es igual a cero\n",
      "\\begin{equation}\\label{eq:lkc}\n",
      "\\sum_{k=1}^n I_k = I_1 + I_2 + I_3\\dots + I_n = 0 \n",
      "\\end{equation}"
     ]
    },
    {
     "cell_type": "markdown",
     "metadata": {},
     "source": [
      "###Ejemplo\n",
      "\n",
      "<p align=\"center\"><img src=\"/files/images/KCL.png\" alt=\"una image\" title=\"Diodo de Vacio\" style=\"max-width:20%\" ></p>\n",
      "\n",
      "La corriente que pasa por un nodo es igual a la corriente que sale del mismo. \n",
      "$$i_1 + i_4 = i_2 + i_3$$"
     ]
    },
    {
     "cell_type": "heading",
     "level": 2,
     "metadata": {},
     "source": [
      "Ley de tensiones de Kirchhoff"
     ]
    },
    {
     "cell_type": "markdown",
     "metadata": {},
     "source": [
      "\n",
      "En un lazo cerrado, la suma de todas las ca\u00eddas de tensi\u00f3n es igual a la tensi\u00f3n total suministrada. De forma equivalente, la suma algebraica de las diferencias de potencial el\u00e9ctrico en un lazo es igual a cero.\n",
      "\\begin{equation}\\label{eq:lkv}\n",
      "\\sum_{k=1}^n V_k = V_1 + V_2 + V_3\\dots + V_n = 0\n",
      "\\end{equation}"
     ]
    },
    {
     "cell_type": "markdown",
     "metadata": {},
     "source": [
      "<center>Pagina escrita en Ipython por *Manuel Mois\u00e9s Miranda Velasco*</center>\n",
      "<script type=\"text/javascript\">\n",
      "    $('div.input').hide();\n",
      "</script>"
     ]
    }
   ],
   "metadata": {}
  }
 ]
}