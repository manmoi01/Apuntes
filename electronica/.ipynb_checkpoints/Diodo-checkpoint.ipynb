{
 "metadata": {
  "name": "",
  "signature": "sha256:26ae263b955cc6d3af6a1512b9bb4114a2feaa22f2c23780e93e3deb9821f341"
 },
 "nbformat": 3,
 "nbformat_minor": 0,
 "worksheets": [
  {
   "cells": [
    {
     "cell_type": "heading",
     "level": 1,
     "metadata": {},
     "source": [
      "Diodo"
     ]
    },
    {
     "cell_type": "heading",
     "level": 2,
     "metadata": {},
     "source": [
      "Definici\u00f3n"
     ]
    },
    {
     "cell_type": "markdown",
     "metadata": {},
     "source": [
      "Un diodo es un componente electr\u00f3nico de dos terminales que permite la circulaci\u00f3n de la corriente el\u00e9ctrica a trav\u00e9s de \u00e9l en un solo sentido. Este t\u00e9rmino generalmente se usa para referirse al diodo semiconductor, el m\u00e1s com\u00fan en la actualidad; consta de una pieza de cristal semiconductor conectada a dos terminales el\u00e9ctricos. El diodo de vac\u00edo (que actualmente ya no se usa, excepto para tecnolog\u00edas de alta potencia)."
     ]
    },
    {
     "cell_type": "heading",
     "level": 2,
     "metadata": {},
     "source": [
      "Historia"
     ]
    },
    {
     "cell_type": "heading",
     "level": 3,
     "metadata": {},
     "source": [
      "Diodo de Vaci\u00f3"
     ]
    },
    {
     "cell_type": "markdown",
     "metadata": {},
     "source": [
      "El invento fue desarrollado en 1904 por John Ambrose Fleming, empleado de la empresa Marconi, bas\u00e1ndose en observaciones realizadas por Thomas Alva Edison.\n",
      "<p align=\"center\"><img src=\"/files/images/diododevacio.png\" alt=\"una image\" title=\"Diodo de Vacio\" style=\"max-width:40%\" ></p>\n",
      "Este es considerado el primer dispositivo electr\u00f3nico, ya que controla el flujo electr\u00f3nico a trav\u00e9s de una se\u00f1al externa, la cual puede ser de baja potencia. La curva de Voltaje-Corriente del diodo de vaci\u00f3 es la misma que la que presenta la v\u00e1lvula termionica con el efecto Edison, la diferencia radica en que el calentamiento de la placa del c\u00e1todo (k) es independiente al voltaje de \u00e1nodo-catodo, por lo que puede ser incluso una se\u00f1al de AC. Este sistema se le llama de ''caldeo indirecto''\n",
      "<p align=\"center\"><img src=\"/files/images/curvadiodosimple.png\" alt=\"una image\" title=\"Diodo de Vacio\" style=\"max-width:60%\" ></p>"
     ]
    },
    {
     "cell_type": "heading",
     "level": 3,
     "metadata": {},
     "source": [
      "Representaci\u00f3n el\u00e9ctrica del diodo de vacio"
     ]
    },
    {
     "cell_type": "markdown",
     "metadata": {},
     "source": [
      "\n",
      "El comportamiento mostrado en curva Voltaje-Corriente del diodo nos muestra que el solo se tiene comportamiento en los cuadrantes I y III, los mismos cuadrantes que una Resistencia seg\u00fan la [Ley de Ohm](Ley_de_ohm). Sin embargo, el comportamiento en el III cuadrante es de un circuito abierto o una resistencia infinita, es decir no importa el voltaje aplicado la corriente es 0, en el cuadrante I, la resistencia presente un comportamiento lineal, mientras que el diodo cambia su comportamiento de acuerdo al voltaje aplicado. De manera general se puede representar por medio del circuito equivalente que se muestra en la siguiente figura:\n",
      "\n",
      "<p align=\"center\"><img src=\"/files/images/circuito_equivalente_diodo.png\" alt=\"una image\" title=\"Diodo de Vacio\" style=\"max-width:60%\" ></p>\n",
      "La resistencia din\u00e1mica $R_{d}$ representa el comportamiento del diodo en el primer cuadrante. La bater\u00eda $V_{d}$ representa un voltaje de disparo,  este voltaje es necesario porque el diodo no conduce inmediatamente despu\u00e9s de ser polarizado en directa. Finalmente el interruptor representa el comportamiento del diodo en el III cuadrante, donde no se tiene conducci\u00f3n."
     ]
    },
    {
     "cell_type": "heading",
     "level": 3,
     "metadata": {},
     "source": [
      "Evoluci\u00f3n."
     ]
    },
    {
     "cell_type": "markdown",
     "metadata": {},
     "source": [
      "Los tubos de vac\u00edo presentan dos grandes problemas; \n",
      "* El primero es relacionado con su proceso de fabricaci\u00f3n, ya que el fen\u00f3meno termionico se presenta solo en el vac\u00edo o gases inertes, por lo que era necesario utilizar una cubierta para lograrlo, haciendo estos dispositivos fr\u00e1giles ante vibraciones o cambios extremos, adem\u00e1s de ocupar una gran espacio. \n",
      "* El segundo era relacionado a la potencia necesaria para hacerlos funcionar, ya que la nube de electrones en la rejilla o el catado tenia que tener un m\u00ednimo para que se presentar\u00e1 el fen\u00f3meno de conducci\u00f3n. \n",
      "Buscando una soluci\u00f3n a estos problemas en los laboratorios Bell en la d\u00e9cada de los 50's del siglo pasado se logra perfeccionar el uso de semiconductores para la fabricaci\u00f3n de dispositivos electr\u00f3nicos. Uno de los dispositivos [[Semiconductor]] m\u00e1s simple es el diodo semiconductor."
     ]
    },
    {
     "cell_type": "heading",
     "level": 2,
     "metadata": {},
     "source": [
      "Diodo Semiconductor."
     ]
    },
    {
     "cell_type": "markdown",
     "metadata": {},
     "source": [
      "Un diodo semiconductor moderno est\u00e1 hecho de cristal semiconductor como el silicio con impurezas en \u00e9l para crear una regi\u00f3n que contiene portadores de carga negativos (electrones), llamado semiconductor de tipo n, y una regi\u00f3n en el otro lado que contiene portadores de carga positiva (huecos), llamado semiconductor tipo p. Las terminales del diodo se unen a cada regi\u00f3n. El l\u00edmite dentro del cristal de estas dos regiones, llamado una uni\u00f3n PN, es donde la importancia del diodo toma su lugar. El cristal conduce una corriente de electrones del lado n (llamado c\u00e1todo), pero no en la direcci\u00f3n opuesta; es decir, cuando una corriente convencional fluye del \u00e1nodo al c\u00e1todo (opuesto al flujo de los electrones)."
     ]
    },
    {
     "cell_type": "heading",
     "level": 3,
     "metadata": {},
     "source": [
      "Estructura B\u00e1sica."
     ]
    },
    {
     "cell_type": "markdown",
     "metadata": {},
     "source": [
      "La estructura b\u00e1sica de un diodo semiconductor se muestra en la siguiente figura:\n",
      "\n",
      "<p align=\"center\"><img src=\"/files/images/diodo_base.png\" alt=\"una image\" title=\"Diodo de Vacio\" style=\"max-width:30%\" ></p>\n",
      "\n",
      "Al unir ambos cristales, se manifiesta una difusi\u00f3n de electrones del cristal n al p ($\\overrightarrow{E} $). Al establecerse una corriente de difusi\u00f3n, estas corrientes aparecen cargas fijas en una zona a ambos lados de la uni\u00f3n, zona que recibe el nombre de ''regi\u00f3n de agotamiento''. A medida que progresa el proceso de difusi\u00f3n, la regi\u00f3n de agotamiento va incrementando su anchura profundizando en los cristales a ambos lados de la uni\u00f3n. Sin embargo, la acumulaci\u00f3n de iones positivos en la zona n y de iones negativos en la zona p, crea un campo el\u00e9ctrico  que actuar\u00e1 sobre los electrones libres de la zona n con una determinada fuerza de desplazamiento, que se opondr\u00e1 a la corriente de electrones y terminar\u00e1 deteni\u00e9ndolos. Este campo el\u00e9ctrico ocasiona que  aparezca una diferencia de tensi\u00f3n entre las zonas p y n. Esta diferencia de potencial ($V_{d}$) es de 0,7 V en el caso del silicio y 0,3 V para los cristales de germanio.\n"
     ]
    },
    {
     "cell_type": "heading",
     "level": 3,
     "metadata": {},
     "source": [
      "Funcionamiento."
     ]
    },
    {
     "cell_type": "markdown",
     "metadata": {},
     "source": [
      "La anchura de la regi\u00f3n de agotamiento una vez alcanzado el equilibrio, suele ser del orden de 0,5 micras pero cuando uno de los cristales est\u00e1 mucho m\u00e1s dopado que el otro, la zona de carga espacial es mucho mayor. Cuando se somete al diodo a una diferencia de tensi\u00f3n externa, se dice que el diodo est\u00e1 polarizado, pudiendo ser la polarizaci\u00f3n directa o inversa."
     ]
    },
    {
     "cell_type": "heading",
     "level": 4,
     "metadata": {},
     "source": [
      "Polarizaci\u00f3n Directa."
     ]
    },
    {
     "cell_type": "markdown",
     "metadata": {},
     "source": [
      "En este caso, la bater\u00eda disminuye la barrera de potencial de la zona de carga espacial, permitiendo el paso de la corriente de electrones a trav\u00e9s de la uni\u00f3n; es decir, el diodo polarizado directamente conduce la electricidad.\n",
      "\n",
      "<p align=\"center\"><img src=\"/files/images/diodo_directa.png\" alt=\"una image\" title=\"Diodo de Vacio\" style=\"max-width:60%\" ></p>\n",
      "\n",
      "\n",
      "Para que un diodo est\u00e9 polarizado directamente, se debe conectar el polo positivo de la bater\u00eda al \u00e1nodo del diodo y el polo negativo al c\u00e1todo. En estas condiciones podemos observar que:\n",
      "* El polo negativo de la bater\u00eda repele los electrones libres del cristal n, con lo que estos electrones se dirigen hacia la uni\u00f3n p-n.\n",
      "* El polo positivo de la bater\u00eda atrae a los electrones de valencia del cristal p, esto es equivalente a decir que empuja a los huecos hacia la uni\u00f3n p-n.\n",
      "\n",
      "El proceso de movimiento electr\u00f3nico se da a trav\u00e9s del siguiente proceso:    \n",
      "* Cuando la diferencia de potencial entre las terminales de la bater\u00eda es mayor que la diferencia de potencial en la regi\u00f3n de agotamiento, los electrones libres del cristal n, adquieren la energ\u00eda suficiente para saltar a los huecos del cristal p, los cuales previamente se han desplazado hacia la uni\u00f3n p-n.\n",
      "* Una vez que un electr\u00f3n libre de la zona n salta a la zona p atravesando la regi\u00f3n de agotamiento, cae en uno de los m\u00faltiples huecos de la zona p convirti\u00e9ndose en electr\u00f3n de valencia. Una vez ocurrido esto el electr\u00f3n es atra\u00eddo por el polo positivo de la bater\u00eda y se desplaza de \u00e1tomo en \u00e1tomo hasta llegar al final del cristal p, desde el cual se introduce en el hilo conductor y llega hasta la bater\u00eda.\n",
      "\n",
      "De este modo, con la bater\u00eda cediendo electrones libres a la zona n y atrayendo electrones de valencia de la zona p, aparece a trav\u00e9s del diodo una corriente el\u00e9ctrica constante hasta el final."
     ]
    },
    {
     "cell_type": "heading",
     "level": 4,
     "metadata": {},
     "source": [
      "Polarizaci\u00f3n Inversa"
     ]
    },
    {
     "cell_type": "markdown",
     "metadata": {},
     "source": [
      "En este caso, el polo negativo de la bater\u00eda se conecta a la zona p y el polo positivo a la zona n, lo que hace aumentar la regi\u00f3n de agotamiento, y la tensi\u00f3n en dicha zona hasta que se alcanza el valor de la tensi\u00f3n de la bater\u00eda, tal y como se explica a continuaci\u00f3n:\n",
      "* El polo positivo de la bater\u00eda atrae a los electrones libres de la zona n, los cuales salen del cristal n y se introducen en el conductor dentro del cual se desplazan hasta llegar a la bater\u00eda. A medida que los electrones libres abandonan la zona n, los \u00e1tomos pentavalentes que antes eran neutros, al verse desprendidos de su electr\u00f3n en el orbital de conducci\u00f3n, adquieren estabilidad y una carga el\u00e9ctrica neta de +1, con lo que se convierten en iones positivos.\n",
      "* El polo negativo de la bater\u00eda cede electrones libres a los \u00e1tomos trivalentes de la zona p. Recordemos que estos \u00e1tomos s\u00f3lo tienen 3 electrones de valencia, con lo que una vez que han formado los enlaces covalentes con los \u00e1tomos de silicio, tienen solamente 7 electrones de valencia, siendo el electr\u00f3n que falta el denominado hueco. El caso es que cuando los electrones libres cedidos por la bater\u00eda entran en la zona p, caen dentro de estos huecos con lo que los \u00e1tomos trivalentes adquieren estabilidad (8 electrones en su orbital de valencia) y una carga el\u00e9ctrica neta de -1, convirti\u00e9ndose as\u00ed en iones negativos.\n",
      "* Este proceso se repite una y otra vez hasta que la zona de carga espacial adquiere el mismo potencial el\u00e9ctrico que la bater\u00eda.\n",
      "\n",
      "\n",
      "<p align=\"center\"><img src=\"/files/images/diodo_inversa.png\" alt=\"una image\" title=\"Diodo de Vacio\" style=\"max-width:60%\" ></p>\n",
      "\n",
      "\n",
      "En esta situaci\u00f3n, el diodo no deber\u00eda conducir la corriente; sin embargo, debido al efecto de la temperatura se formar\u00e1n pares electr\u00f3n-hueco (ver [Semiconductor](Semiconductor.ipynb)) a ambos lados de la uni\u00f3n produciendo una peque\u00f1a corriente (del orden de $1\\mu A$) denominada ''corriente inversa de saturaci\u00f3n''. Adem\u00e1s, existe tambi\u00e9n una denominada ''corriente superficial de fuga'' la cual, como su propio nombre indica, conduce una peque\u00f1a corriente por la superficie del diodo; ya que en la superficie, los \u00e1tomos de silicio no est\u00e1n rodeados de suficientes \u00e1tomos para realizar los cuatro enlaces covalentes necesarios para obtener estabilidad. Esto hace que los \u00e1tomos de la superficie del diodo, tanto de la zona n como de la p, tengan huecos en su orbital de valencia con lo que los electrones circulan sin dificultad a trav\u00e9s de ellos. No obstante, al igual que la corriente inversa de saturaci\u00f3n, la corriente superficial de fuga es despreciable. \n",
      "\n",
      "Un fen\u00f3meno que ocurre en la polarizaci\u00f3n en inversa es el de ''Voltaje de Ruptura'' ($V_{r}$), que es el voltaje en inversa m\u00e1ximo que el diodo puede soportar antes de darse el efecto avalancha. Te\u00f3ricamente, al polarizar inversamente el diodo, este conducir\u00e1 la corriente inversa de saturaci\u00f3n; en la realidad, a partir de un determinado valor de la tensi\u00f3n, en el diodo normal o de uni\u00f3n abrupta la ruptura se debe al efecto avalancha; no obstante hay otro tipo de diodos, como los Zener, en los que la ruptura puede deberse a dos efectos:\n",
      "* _Efecto avalancha (diodos poco dopados)_. En polarizaci\u00f3n inversa se generan pares electr\u00f3n-hueco que provocan la corriente inversa de saturaci\u00f3n; cuando el voltaje en inversa alcanza un valor cr\u00edtico ($V_{a}$) los electrones se aceleran incrementando su energ\u00eda cin\u00e9tica de forma que al chocar con electrones de valencia pueden provocar su salto a la banda de conducci\u00f3n. Estos electrones liberados, a su vez, se aceleran por efecto de la tensi\u00f3n, chocando con m\u00e1s electrones de valencia y liber\u00e1ndolos a su vez. El resultado es una avalancha de electrones que provoca una corriente grande. El valor de voltaje necesario para que ocurra este fen\u00f3meno depende del tipo de construcci\u00f3n del diodo.\n",
      "* _Efecto Zener (diodos muy dopados)_. Cuanto m\u00e1s dopado est\u00e1 el material, menor es la anchura de la zona de carga. Puesto que el campo el\u00e9ctrico $\\overrightarrow{E} $ puede expresarse como cociente del voltaje entre la distancia $V/d$ ; cuando el diodo est\u00e9 muy dopado, y por tanto $d$ sea peque\u00f1o, si el campo el\u00e9ctrico en la regi\u00f3n de agotamiento crece lo suficiente, entonces bajo estas condiciones, el propio campo puede ser capaz de arrancar electrones de valencia increment\u00e1ndose la corriente. El voltaje necesario para que el se produzca este efecto se llama _Voltaje Zener_ ($V_{z}$). \n",
      "\n",
      "Para tensiones inversas entre 4 y 6 V la ruptura de diodos especiales, como los Zener, se puede producir por ambos efectos.\n"
     ]
    },
    {
     "cell_type": "heading",
     "level": 3,
     "metadata": {},
     "source": [
      "Curva caracter\u00edstica"
     ]
    },
    {
     "cell_type": "markdown",
     "metadata": {},
     "source": [
      "El comportamiento global de un diodo semiconductor se representa en la siguiente gr\u00e1fica: \n",
      "\n",
      "<p align=\"center\"><img src=\"/files/images/curvadiodo.png\" alt=\"una image\" title=\"Diodo de Vacio\" style=\"max-width:6\n",
      "0%\" ></p>\n",
      "\n",
      "Los puntos importantes en la curva caracter\u00edstica del diodo aparte de $V_{z}$ y $V_{a}$ son: \n",
      "* _Voltaje de disparo ($V_{d}$)_. El  voltaje de disparo (tambi\u00e9n llamado _barrera de potencial_ ) de polarizaci\u00f3n directa coincide en valor con la diferencia de potencial en la regi\u00f3n de agotamiento  del diodo no polarizado. Al polarizar directamente el diodo, la barrera de potencial inicial se va reduciendo, incrementando la corriente ligeramente, alrededor del 1% de la nominal. Sin embargo, cuando voltaje externo supera el voltaje de disparo, la barrera de potencial desaparece, de forma que para peque\u00f1os incrementos de voltaje se producen grandes variaciones de la intensidad de corriente.\n",
      "* _Corriente m\u00e1xima ($I_{max}$ )_. Es la intensidad de corriente m\u00e1xima que puede conducir el diodo sin fundirse por el efecto Joule. Dado que es funci\u00f3n de la cantidad de calor que puede disipar el diodo, depende sobre todo del dise\u00f1o del mismo.\n",
      "* _Corriente inversa de saturaci\u00f3n ($I_{s}$ )_. Es la peque\u00f1a corriente que se establece al polarizar inversamente el diodo por la formaci\u00f3n de pares electr\u00f3n-hueco debido a la temperatura.\n",
      "\n",
      "* _Corriente superficial de fuga_. Es la peque\u00f1a corriente que circula por la superficie del diodo (ver **Polarizaci\u00f3n Inversa**, esta corriente es funci\u00f3n de la tensi\u00f3n aplicada al diodo, con lo que al aumentar la tensi\u00f3n, aumenta la corriente superficial de fugas."
     ]
    },
    {
     "cell_type": "heading",
     "level": 3,
     "metadata": {},
     "source": [
      "Modelo Matem\u00e1tico"
     ]
    },
    {
     "cell_type": "markdown",
     "metadata": {},
     "source": [
      "El modelo matem\u00e1tico m\u00e1s empleado es el de Shockley (en honor a [William Bradford Shockley](http://es.wikipedia.org/wiki/William_Bradford_Shockley) que permite aproximar el comportamiento del diodo en la mayor\u00eda de las aplicaciones. La ecuaci\u00f3n que liga la intensidad de corriente y la diferencia de potencial es:\n",
      "\\begin{equation}\n",
      "I=I_\\mathrm{S} \\left( e^{V_\\mathrm{D}/(n V_\\mathrm{T})}-1 \\right),\\,\n",
      "\\end{equation}\n",
      "Donde:\n",
      "$I$ es la intensidad de la corriente que atraviesa el diodo\n",
      "$V_{D}$ es la diferencia de tensi\u00f3n entre sus extremos.\n",
      "$I_{S}$ es la corriente de saturaci\u00f3n (aproximadamente $10^{-12} A$)\n",
      "$n$ es el coeficiente de emisi\u00f3n, dependiente del proceso de fabricaci\u00f3n del diodo y que suele adoptar valores entre 1 (para el germanio) y del orden de 2 (para el silicio).\n",
      "\n",
      "El Voltaje t\u00e9rmico $V_{T}$ es aproximadamente 25.85mV en 300K, una temperatura cercana a la temperatura ambiente, muy usada en los programas de simulaci\u00f3n de circuitos. Para cada temperatura existe una constante conocida definida por:\n",
      "$$\n",
      "    V_\\mathrm{T} = \\frac{k T}{q} \\, \n",
      "$$\n",
      "Donde $k$ es la constante de Boltzmann, $T$ es la temperatura absoluta de la uni\u00f3n pn, y $q$ es la magnitud de la carga de un electr\u00f3n (la carga elemental).\n",
      "La ecuaci\u00f3n de diodo ideal de Schockley o la ley de diodo se deriva de asumir que solo los procesos que le dan corriente al diodo son por el flujo (debido al campo el\u00e9ctrico), difusi\u00f3n, y la recombinaci\u00f3n t\u00e9rmica. Tambi\u00e9n asume que la corriente de recombinaci\u00f3n en la regi\u00f3n de agotamiento es insignificante. Esto significa que la ecuaci\u00f3n de Schockley no tiene en cuenta los procesos relacionados con la regi\u00f3n de ruptura e inducci\u00f3n por fotones. Adicionalmente, no describe la estabilizaci\u00f3n de la curva Voltaje-Corriente en polarizaci\u00f3n activa debido a la resistencia interna.\n",
      "\n",
      "Bajo voltajes negativos, la exponencial en la ecuaci\u00f3n del diodo es insignificante. y la corriente es una constante negativa del valor de $I_{s}$. **_La regi\u00f3n de ruptura no esta modelada_** en la ecuaci\u00f3n de diodo de Schockley.\n",
      "\n",
      "Para voltajes peque\u00f1os en la regi\u00f3n de polarizaci\u00f3n directa, se puede eliminar el 1 de la ecuaci\u00f3n, quedando como resultado:\n",
      "$$\n",
      "    I=I_\\mathrm{S} e^{V_\\mathrm{D}/(n V_\\mathrm{T})}\n",
      "$$\n",
      "Con objeto de evitar el uso de exponenciales, en ocasiones se emplean modelos m\u00e1s simples a\u00fan, que modelan las zonas de funcionamiento del diodo por tramos rectos; son los llamados modelos de continua o de Ram-se\u00f1al. El m\u00e1s simple de todos es el diodo ideal."
     ]
    },
    {
     "cell_type": "heading",
     "level": 1,
     "metadata": {},
     "source": [
      "Tipo de Diodos"
     ]
    },
    {
     "cell_type": "markdown",
     "metadata": {},
     "source": [
      "Existen varios tipos de diodos, que pueden diferir en su aspecto f\u00edsico, impurezas, uso de electrodos, que tienen caracter\u00edsticas el\u00e9ctricas particulares usados para una aplicaci\u00f3n especial en un circuito. El funcionamiento de estos diodos es fundamentado por principios de la mec\u00e1nica cu\u00e1ntica y teor\u00eda de bandas.\n",
      "\n",
      "Los diodos normales, los cuales operan como se describ\u00eda m\u00e1s arriba, se hacen generalmente de silicio dopado o germanio. Antes del desarrollo de estos diodos rectificadores de silicio, se usaba el \u00f3xido cuproso y el selenio: su baja eficiencia le dio una ca\u00edda de tensi\u00f3n muy alta (desde 1,4 a 1,7V) y requer\u00edan de una gran disipaci\u00f3n de calor mucho m\u00e1s grande que un diodo de silicio. La gran mayor\u00eda de los diodos pn se encuentran en circuitos integrados CMOS, que incluyen dos diodos por pin y muchos otros diodos internos.\n",
      "\n",
      "* _Diodo avalancha_: Diodos que conducen en direcci\u00f3n contraria cuando el voltaje en inverso supera el voltaje de ruptura. Electric\u00e1mente son similares a los diodos Zener, pero funciona bajo otro fen\u00f3meno, el efecto avalancha. Esto sucede cuando el campo el\u00e9ctrico inverso que atraviesa la uni\u00f3n p-n produce una onda de ionizaci\u00f3n, similar a una avalancha, produciendo una corriente. Los diodos avalancha est\u00e1n dise\u00f1ados para operar en un voltaje inverso definido sin que se destruya. La diferencia entre el diodo avalancha (el cual tiene un voltaje de reversa de aproximadamente 6.2V) y el diodo zener es que el ancho del canal del primero excede la \"libre asociaci\u00f3n\" de los electrones, por lo que se producen colisiones entre ellos en el camino. La \u00fanica diferencia pr\u00e1ctica es que los dos tienen coeficientes de temperatura de polaridades opuestas.\n",
      "\n",
      "* _Diodo de Silicio_: Suelen tener un tama\u00f1o milim\u00e9trico y, alineados, constituyen detectores multicanal que permiten obtener espectros en milisegundos. Son menos sensibles que los fotomultiplicadores. Es un semiconductor de tipo p (con huecos) en contacto con un semiconductor de tipo n (electrones). La radiaci\u00f3n comunica la energ\u00eda para liberar los electrones que se desplazan hacia los huecos, estableciendo una corriente el\u00e9ctrica proporcional a la potencia radiante.\n",
      "\n",
      "* _Diodo de cristal_ : Es un tipo de diodo de contacto. El diodo cristal consiste de un cable de metal afilado presionado contra un cristal semiconductor, generalmente galena o de una parte de carb\u00f3n. El cable forma el \u00e1nodo y el cristal forma el c\u00e1todo. Los diodos de cristal tienen una gran aplicaci\u00f3n en los radio a galena. Los diodos de cristal est\u00e1n obsoletos, pero puede conseguirse todav\u00eda de algunos fabricantes.\n",
      "\n",
      "* _Diodo de corriente constante_: Realmente es un JFET, con su compuerta conectada a la fuente, y funciona como un limitador de corriente de dos terminales an\u00e1logo al diodo Zener, el cual limita el voltaje. Ellos permiten una corriente a trav\u00e9s de ellos para alcanzar un valor adecuado y as\u00ed estabilizarse en un valor espec\u00edfico. Tambi\u00e9n suele llamarse CLDs (por sus siglas en ingl\u00e9s) o diodo regulador de corriente.\n",
      "\n",
      "* _Diodo t\u00fanel o Esaki_: Tienen una regi\u00f3n de operaci\u00f3n que produce una resistencia negativa debido al efecto t\u00fanel, permitiendo amplificar se\u00f1ales y circuitos muy simples que poseen dos estados. Debido a la alta concentraci\u00f3n de carga, los diodos t\u00fanel son muy r\u00e1pidos, pueden usarse en temperaturas muy bajas, campos magn\u00e9ticos de gran magnitud y en entornos con radiaci\u00f3n alta. Por estas propiedades, suelen usarse en viajes espaciales.\n",
      "\n",
      "* _Diodo Gunn_: Similar al diodo t\u00fanel son construidos de materiales como GaAs o InP que produce una resistencia negativa. Bajo condiciones apropiadas, las formas de dominio del dipolo y propagaci\u00f3n a trav\u00e9s del diodo, permitiendo osciladores de ondas microondas de alta frecuencia.\n",
      "\n",
      "* _Diodo emisor de luz_: En un diodo formado de un semiconductor con huecos en su banda de energ\u00eda, tal como arseniuro de galio, los portadores de carga que cruzan la uni\u00f3n emiten fotones cuando se recombinan con los portadores mayoritarios en el otro lado. Dependiendo del material, la longitud de onda que se pueden producir var\u00eda desde el infrarrojo hasta longitudes de onda cercanas al ultravioleta. El potencial que admiten estos diodos dependen de la longitud de onda que ellos emiten: 2.1V corresponde al rojo, 4.0V al violeta. Los primeros LEDs fueron rojos y amarillos. Los LEDs blancos son en realidad combinaciones de tres LEDs de diferente color o un LED azul revestido con un centelleador amarillo. Los LEDs tambi\u00e9n pueden usarse como fotodiodos de baja eficiencia en aplicaciones de se\u00f1ales. Un LED puede usarse con un fotodiodo o fototransistor para formar un optoacoplador.\n",
      "\n",
      "* _Diodo l\u00e1ser_: Cuando la estructura de un LED se introduce en una cavidad resonante formada al pulir las caras de los extremos, se puede formar un l\u00e1ser. Los diodos l\u00e1ser se usan frecuentemente en dispositivos de almacenamiento \u00f3pticos y para la comunicaci\u00f3n \u00f3ptica de alta velocidad.\n",
      "\n",
      "* _Diodo t\u00e9rmico_: Este t\u00e9rmino tambi\u00e9n se usa para los diodos convencionales usados para monitorear la temperatura a la variaci\u00f3n de voltaje con la temperatura, y para refrigeradores termoel\u00e9ctricos para la refrigeraci\u00f3n termoel\u00e9ctrica. Los refrigeradores termoel\u00e9ctricos se hacen de semiconductores, aunque ellos no tienen ninguna uni\u00f3n de rectificaci\u00f3n, aprovechan el comportamiento distinto de portadores de carga de los semiconductores tipo P y N para transportar el calor.\n",
      "\n",
      "* _Fotodiodos_: Todos los semiconductores est\u00e1n sujetos a portadores de carga \u00f3pticos. Generalmente es un efecto no deseado, por lo que muchos de los semiconductores est\u00e1n empacados en materiales que bloquean el paso de la luz. Los fotodiodos tienen la funci\u00f3n de ser sensibles a la luz (fotocelda), por lo que est\u00e1n empacados en materiales que permiten el paso de la luz y son por lo general PIN (tipo de diodo m\u00e1s sensible a la luz). Un fotodiodo puede usarse en celdas solares, en fotometr\u00eda o en comunicaci\u00f3n \u00f3ptica. Varios fotodiodos pueden empacarse en un dispositivo como un arreglo lineal o como un arreglo de dos dimensiones. Estos arreglos no deben confundirse con los dispositivos de carga acoplada.\n",
      "\n",
      "* _Diodo con puntas de contacto_: Funcionan igual que los diodos semiconductores de uni\u00f3n mencionados anteriormente aunque su construcci\u00f3n es m\u00e1s simple. Se fabrica una secci\u00f3n de semiconductor tipo n, y se hace un conductor de punta aguda con un metal del grupo 3 de manera que haga contacto con el semiconductor. Algo del metal migra hacia el semiconductor para hacer una peque\u00f1a regi\u00f3n de tipo p cerca del contacto. El muy usado 1N34 (de fabricaci\u00f3n alemana) a\u00fan se usa en receptores de radio como un detector y ocasionalmente en dispositivos anal\u00f3gicos especializados.\n",
      "\n",
      "* _Diodo PIN_: Un diodo PIN tiene una secci\u00f3n central sin doparse o en otras palabras una capa intr\u00ednseca formando una estructura p-intrinseca-n. Son usados como interruptores de alta frecuencia y atenuadores. Tambi\u00e9n son usados como detectores de radiaci\u00f3n ionizante de gran volumen y como fotodetectores. Los diodos PIN tambi\u00e9n se usan en la electr\u00f3nica de potencia y su capa central puede soportar altos voltajes. Adem\u00e1s, la estructura del PIN puede encontrarse en dispositivos semiconductores de potencia, tales como IGBTs, MOSFETs de potencia y tiristores.\n",
      "\n",
      "* _Diodo Schottky_: El diodo Schottky est\u00e1n construidos de un metal a un contacto de semiconductor. Tiene una tensi\u00f3n de ruptura mucho menor que los diodos pn. Su tensi\u00f3n de ruptura en corrientes de 1mA est\u00e1 en el rango de 0.15V a 0.45V, lo cual los hace \u00fatiles en aplicaciones de fijaci\u00f3n y prevenci\u00f3n de saturaci\u00f3n en un transistor. Tambi\u00e9n se pueden usar como rectificadores con bajas p\u00e9rdidas aunque su corriente de fuga es mucho m\u00e1s alta que la de otros diodos. Los diodos Schottky son portadores de carga mayoritarios por lo que no sufren de problemas de almacenamiento de los portadores de carga minoritarios que ralentizan la mayor\u00eda de los dem\u00e1s diodos (por lo que este tipo de diodos tiene una recuperaci\u00f3n inversa m\u00e1s r\u00e1pida que los diodos de uni\u00f3n pn. Tienden a tener una capacitancia de uni\u00f3n mucho m\u00e1s baja que los diodos pn que funcionan como interruptores veloces y se usan para circuitos de alta velocidad como fuentes conmutadas, mezclador de frecuencias y detectores.\n",
      "\n",
      "* _Stabistor_: El stabistor (tambi\u00e9n llamado Diodo de Referencia en Directa) es un tipo especial de diodo de silicio cuyas caracter\u00edsticas de tensi\u00f3n en directa son extremadamente estables. Estos dispositivos est\u00e1n dise\u00f1ados especialmente para aplicaciones de estabilizaci\u00f3n en bajas tensiones donde se requiera mantener la tensi\u00f3n muy estable dentro de un amplio rango de corriente y temperatura.\n",
      "\n",
      "Dada la variedad de diodos resulta dif\u00edcil explicar cada una de las posibles aplicaciones en las cuales se utilizan los diodos, por lo que solo nos enfocaremos en las [[aplicaciones|Aplicaciones del diodo]] m\u00e1s representativas. "
     ]
    },
    {
     "cell_type": "markdown",
     "metadata": {},
     "source": [
      "<center>Pagina escrita en Ipython por *Manuel Mois\u00e9s Miranda Velasco*</center>\n",
      "<script type=\"text/javascript\">\n",
      "    $('div.input').hide();\n",
      "</script>"
     ]
    }
   ],
   "metadata": {}
  }
 ]
}