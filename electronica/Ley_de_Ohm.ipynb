{
 "metadata": {
  "name": "",
  "signature": "sha256:3be0479b084af72c87d4049f5464b778311b7403424550522f9f50a7435460fb"
 },
 "nbformat": 3,
 "nbformat_minor": 0,
 "worksheets": [
  {
   "cells": [
    {
     "cell_type": "heading",
     "level": 1,
     "metadata": {},
     "source": [
      "Ley de Ohm"
     ]
    },
    {
     "cell_type": "markdown",
     "metadata": {},
     "source": [
      "La ley de Ohm establece que la intensidad el\u00e9ctrica que circula entre dos puntos de un circuito el\u00e9ctrico es directamente proporcional a la tensi\u00f3n el\u00e9ctrica entre dichos puntos, existiendo una constante de proporcionalidad entre estas dos magnitudes. Dicha constante de proporcionalidad es la conductancia el\u00e9ctrica, que es inversa a la resistencia el\u00e9ctrica.\n",
      "\n",
      "La ecuaci\u00f3n matem\u00e1tica que describe esta relaci\u00f3n es:\n",
      "\\begin{equation}\\label{eq:ohm}\n",
      "I=GV=\\frac{V}{R}\n",
      "\\end{equation}\n",
      "donde, $I$ es la corriente que pasa a trav\u00e9s del objeto en amperios (A), $V$ es la diferencia de potencial de las terminales del objeto en voltios o volts (V), $G$ es la conductancia en siemens (S) y $R$ es la resistencia en ohmios ($\\Omega$). Espec\u00edficamente, la ley de Ohm dice que la R en esta relaci\u00f3n es constante, independientemente de la corriente"
     ]
    },
    {
     "cell_type": "markdown",
     "metadata": {},
     "source": [
      "<center>Pagina escrita en Ipython por *Manuel Mois\u00e9s Miranda Velasco*</center>\n",
      "<script type=\"text/javascript\">\n",
      "    $('div.input').hide();\n",
      "</script>"
     ]
    }
   ],
   "metadata": {}
  }
 ]
}