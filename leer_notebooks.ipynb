{
 "metadata": {
  "name": "leer_notebooks"
 },
 "nbformat": 3,
 "nbformat_minor": 0,
 "worksheets": [
  {
   "cells": [
    {
     "cell_type": "code",
     "collapsed": false,
     "input": [
      "import urllib3\n",
      "import json\n",
      "http = urllib3.PoolManager()\n",
      "data = http.request('GET',\"http://127.0.0.1:9000/notebooks\")\n",
      "print(data.data)\n"
     ],
     "language": "python",
     "metadata": {},
     "outputs": [
      {
       "output_type": "stream",
       "stream": "stdout",
       "text": [
        "b'[{\"name\":\"01_notebook_introduction\",\"kernel_id\":null,\"notebook_id\":\"09085e65-9d30-472c-be20-9bb4a535fb49\"},{\"name\":\"Datos_villalpando\",\"kernel_id\":null,\"notebook_id\":\"771dd04b-3c32-42c9-a88c-f74a711b9f80\"},{\"name\":\"Guia Rapida Math\",\"kernel_id\":\"782376ed-5176-4476-a5fe-22b47f673fcb\",\"notebook_id\":\"a1128f16-d628-4a85-9c9c-8c1a7313f004\"},{\"name\":\"Intro\",\"kernel_id\":\"05b9c047-8243-4941-894c-08431cee8c07\",\"notebook_id\":\"bf3e2e28-21a7-4714-8b00-16797585b00c\"},{\"name\":\"Primer Notebook\",\"kernel_id\":null,\"notebook_id\":\"379afa46-fbac-4f53-ac12-95ddb1752d3c\"},{\"name\":\"Pruebas_string\",\"kernel_id\":null,\"notebook_id\":\"cad5f4f8-3967-471a-a149-f2e0f5c0beaf\"},{\"name\":\"Typesetting Math Using MathJax\",\"kernel_id\":null,\"notebook_id\":\"5d343519-1aec-4d1b-b7b2-5cdeaf4c640b\"},{\"name\":\"Untitled0\",\"kernel_id\":\"f182a268-a61a-44d2-88b0-2056416a6f56\",\"notebook_id\":\"a40cec65-e179-4b4f-a7a6-4aa349c12b16\"}]'\n"
       ]
      }
     ],
     "prompt_number": 19
    },
    {
     "cell_type": "code",
     "collapsed": false,
     "input": [
      "sd=data.data.decode(\"utf-8\")"
     ],
     "language": "python",
     "metadata": {},
     "outputs": [],
     "prompt_number": 28
    },
    {
     "cell_type": "code",
     "collapsed": false,
     "input": [
      "json_data=sd\n",
      "list_o_dicts=json.loads(json_data)\n",
      "for d in list_o_dicts:\n",
      "    if d['name'] == 'Guia Rapida Math':\n",
      "        print(d['notebook_id'])"
     ],
     "language": "python",
     "metadata": {},
     "outputs": [
      {
       "output_type": "stream",
       "stream": "stdout",
       "text": [
        "a1128f16-d628-4a85-9c9c-8c1a7313f004\n"
       ]
      }
     ],
     "prompt_number": 30
    },
    {
     "cell_type": "code",
     "collapsed": false,
     "input": [],
     "language": "python",
     "metadata": {},
     "outputs": []
    }
   ],
   "metadata": {}
  }
 ]
}