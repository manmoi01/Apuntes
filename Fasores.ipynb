{
 "metadata": {
  "name": "",
  "signature": "sha256:283a35befe9c45ab93b1b62b094638dd68ae0d9e5fefb84127e647a2f7b3bc38"
 },
 "nbformat": 3,
 "nbformat_minor": 0,
 "worksheets": [
  {
   "cells": [
    {
     "cell_type": "markdown",
     "metadata": {},
     "source": [
      "#Fasores\n",
      "Un fasor es una representaci\u00f3n gr\u00e1fica de un n\u00famero complejo que se utiliza para representar una oscilaci\u00f3n. \n",
      "\n",
      "La longitud del fasor da la amplitud y el \u00e1ngulo entre el mismo y el eje-x la fase angular. Debido a las propiedades de la matem\u00e1tica de oscilaciones, en electr\u00f3nica los fasores se utilizan habitualmente en el an\u00e1lisis rudimentario de circuitos en AC."
     ]
    },
    {
     "cell_type": "markdown",
     "metadata": {},
     "source": [
      "![Circuito RLC serie](images/rlcserie.png \"Circuito RLC serie\")"
     ]
    },
    {
     "cell_type": "code",
     "collapsed": false,
     "input": [],
     "language": "python",
     "metadata": {},
     "outputs": []
    }
   ],
   "metadata": {}
  }
 ]
}