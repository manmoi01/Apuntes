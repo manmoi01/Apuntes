{
 "metadata": {
  "name": "",
  "signature": "sha256:7afdb83ba613723faa4fb03a665db1b63d90d33a9471e529f030869b2dae1fd7"
 },
 "nbformat": 3,
 "nbformat_minor": 0,
 "worksheets": [
  {
   "cells": [
    {
     "cell_type": "markdown",
     "metadata": {},
     "source": [
      "#Guia rapida Math in Python\n",
      "\n",
      "----\n",
      "En esta guia rapida es una guia rapida en la que aprenderemos el uso b\u00e1sico de herramientas para el analis\u00eds matem\u00e1tico con el lenguaje python. \n",
      "\n",
      "----\n",
      "\n",
      "##Introducci\u00f3n\n",
      "La raz\u00f3n es encontrar una herramienta que permita m\u00e1s flexibilidad que matlab y que no sea propietaria para poder desarrollar libremente. En este sentido Python tiene varias librerias desarrolladas que permiten el desarrollo de aplicaciones para el analis\u00eds matem\u00e1tico, pero adem\u00e1s al ser un lenguaje de programaci\u00f3n existen muchas librerias para desarrollar aplicaciones e interfaces gr\u00e1ficas. Un punto importante con python es el que es multiplataforma y por lo tanto puede ser utilizando en casi cualquier sistema de computo.\n",
      "\n",
      "En este tutorial nos centraremos en 4 herramientas que son:"
     ]
    },
    {
     "cell_type": "markdown",
     "metadata": {},
     "source": [
      "----\n",
      "\n",
      "* **Ipython**\n",
      "\n",
      "    Es un paquete que permite utilizar de manera intercativa python, se fundamento principal es el manejo de la informaci\u00f3n por bloques, cada bloque se conoce como celda (cell). La idea b\u00e1sica consiste en que se puede ejecutar de manera independiente el contenido de cada celda sin que se tenga que ejecutar las dem\u00e1s celdas, sin embargo, las variables creadas en cada celda son globales por lo que las dem\u00e1s celdas pueden usarls. Una herramienta muy \u00fatil es la de notebook, el cual es un frontend que permite la interacci\u00f3n a trav\u00e9s de un navegador web, permitiendo aprovechar los recursos HTML para dar formato a las celdas y ejecutar c\u00f3digo al mismo tiempo. Este documento esta escrito en ipython 0.13.1.\n",
      "\n",
      "----\n",
      "\n",
      "* **Numpy**\n",
      "\n",
      "    NumPy es el paquete fundamental para la computo cient\u00edfico con Python. Contiene entre otras cosas:\n",
      "    * un poderoso manejo de N-dimensional array \n",
      "    * sofisticados (broadcasting) funciones\n",
      "    * herramientas para la integraci\u00f3n de  c\u00f3digo en C / C + + y Fortran\n",
      "    * \u00e1lgebra lineal \u00fatil, transformada de Fourier, y las capacidades de n\u00fameros aleatorios.\n",
      "    \n",
      "    Adem\u00e1s de sus usos cient\u00edficos, NumPy tambi\u00e9n se puede utilizar como un eficiente multi-dimensional contenedor de datos gen\u00e9ricos. Pueden ser definidos tipos de datos Arbitrarios. Esto permite NumPy  integrarse sin problemas y r\u00e1pidamente con una amplia variedad de bases de datos.\n",
      "\n",
      "----\n",
      "\n",
      "* **Scipy**\n",
      "\n",
      "    SciPy (pronounced \"Sigh Pie\") is open-source software for mathematics, science, and engineering. The SciPy library is built to work with NumPy arrays, and provides many user-friendly and efficient numerical routines such as routines for numerical integration and optimization.\n",
      "\n",
      "----\n",
      "\n",
      "* **Matplotlib**\n",
      "\n",
      "    Matplotlib is a python 2D plotting library which produces publication quality figures in a variety of hardcopy formats and interactive environments across platforms. matplotlib can be used in python scripts, the python and ipython shell (ala MATLAB\u00ae* or Mathematica\u00ae\u2020), web application servers, and six graphical user interface toolkits.\n",
      "\n",
      "----"
     ]
    },
    {
     "cell_type": "markdown",
     "metadata": {},
     "source": [
      "#IPython\n",
      "\n",
      "Esta herramienta permite el uso interactivo de pytyhon, ofrece opciones para su personalizaci\u00f3n y uso de difererentes formas. En est\u00e1 guia rapida nos centraremos en su uso como ***notebook*** para poder interactuar con Python a trav\u00e9s del navegador web.\n",
      "\n",
      "##Uso b\u00e1sico\n",
      "\n",
      "El comando b\u00e1sico es:\n",
      "```ipython notebook\n",
      "```\n",
      "con este comando se inicia un servidor web de manera local en el puerto 8888, adem\u00e1s de forma aut\u00f3matica se abre el navegador web default en el dashboard. \n",
      "\n",
      "----\n",
      "\n",
      "***IMPORTANTE***\n",
      "\n",
      "Ipython Notebook utiliza el concepto de websocket (wss:) los cuales no son implementados en Explorer 9 o versi\u00f3n anterior, ni en safari para ipad   \n",
      "\n",
      "----\n",
      "\n",
      "###Dashboard\n",
      "\n",
      "El dashboard es una pagina donde podemos manejar los notebooks que creemos con ipython, as\u00ed como importar archivos externos. Es importante se\u00f1alar que el dashboard solo manaje los archivos en el directorio donde se ejecute el comando. En caso de querer alg\u00fan otro directorio es necesario cambiar los par\u00e1metros en el archivo de configuraci\u00f3n, como se mostrar\u00e1 m\u00e1s adelante.\n",
      "\n",
      "En el dashboard se puede abrir cualquier notebook guardado en el directorio de trabajo, importar alg\u00fan notebook existente y crear nuevos notebook. Adem\u00e1s, se puede parar la ejecuci\u00f3n de cualquier notebook. Es importante se\u00f1alar que una ves que se abr\u00e9 un notebook, aunque se cierre la ventana de edici\u00f3n este se continua ejecutando lo cual permite acesar a las notebook desde otra aplicaci\u00f3n, por lo que es importante terminar su ejecuci\u00f3n en el dashboard.\n",
      "\n",
      "###Notebook\n",
      "\n",
      "Las notebook son archivos donde se guard\u00e1n los comandos que queremos ejecutar en ipython, a diferencia de un archvivo script de python donde se tiene una ejecuci\u00f3n del tipo ***top-down*** en las notebooks se ejecuta el c\u00f3digo una ves es solicitado por le usuario y el resultado es guardado dentro de la misma notebook, por lo que es posible desarrollar la notebook una ves concluido se abre nuevamente la notebook viendo los resultados sin que se ejecute el c\u00f3digo de nuevo.\n",
      "\n",
      "Las notebook tienen dos tipos de celdas que son: code y markdown.\n",
      "\n",
      "<br>\n",
      "####Code\n",
      "<br>\n",
      "Est\u00e1 es un celda donde se tiene una entrada (IN[x]) la cual son comandos python que se quieran ejecutar y una salida (Out[x]) que es el resultadod de los comandos ejecutados. El valor 'x' presente en las celdas code es el numero de ejecuci\u00f3n realizado en la notebook, este numer\u00f3 indica el orden en que las celdas han sido ejecutadas. "
     ]
    },
    {
     "cell_type": "code",
     "collapsed": false,
     "input": [
      "x=5+3\n",
      "print(x)"
     ],
     "language": "python",
     "metadata": {},
     "outputs": [
      {
       "output_type": "stream",
       "stream": "stdout",
       "text": [
        "8\n"
       ]
      }
     ],
     "prompt_number": 35
    },
    {
     "cell_type": "markdown",
     "metadata": {},
     "source": [
      "En caso que los comando no produzcan salida alguna no se mostrar ningun(Out[])"
     ]
    },
    {
     "cell_type": "code",
     "collapsed": false,
     "input": [
      "y=3/2"
     ],
     "language": "python",
     "metadata": {},
     "outputs": [],
     "prompt_number": 36
    },
    {
     "cell_type": "markdown",
     "metadata": {},
     "source": [
      "####Markdown\n",
      "<br>\n",
      "En esta celda se puede introducir texto e imagenes y dar formato a traves de una syntaxis especial conocida como [markdown](http://daringfireball.net/projects/markdown/basics) o el uso de comandos HTML, lo cual permite que los notebooks sean una mezcla de texto e imagenes con c\u00f3digo python, lo cual permite la creaci\u00f3n de documentos interactivos. \n",
      "\n",
      "Una de las opciones m\u00e1s interesantes es la posibilidad de incluir c\u00f3digo html directamente en cada celda, en el siguiente ejemplo se incluye una tabla y algunos otros elementos\n",
      "\n",
      "----\n",
      "\n",
      "*Source*\n",
      "\n",
      "```<div style=\"color:#FFFF00;background-color:#005500;\">\n",
      "  <h1>Esto es un titulo</h1>\n",
      "  <p>Esto es un parrafo</p>\n",
      "</div><table>\n",
      "    <th colspan=2>Esto es una tabla</th>\n",
      "    <tr>\n",
      "        <td>Nombre</td>\n",
      "        <td>Direcci&oacute;n</td>\n",
      "    </tr>\n",
      "    <tr>\n",
      "        <td>Santa Claus</td>\n",
      "        <td>Pole North</td>\n",
      "    </tr>\n",
      "</table>\n",
      " <div style=\"color:#FF2299\">\n",
      "    <p>Los elementos incluidos se procesan con HTML5 por lo que hay que tener encuenta las opciones a incluir.</p>\n",
      "</div>\n",
      "```\n",
      "\n",
      "<div style=\"color:#FFFF00;background-color:#005500;\">\n",
      "  <h1>Esto es un titulo</h1>\n",
      "  <p>Esto es un parrafo</p>\n",
      "</div>\n",
      "<table>\n",
      "    <th colspan=2>Esto es una tabla</th>\n",
      "    <tr>\n",
      "        <td>Nombre</td>\n",
      "        <td>Direcci&oacute;n</td>\n",
      "    </tr>\n",
      "    <tr>\n",
      "        <td>Santa Claus</td>\n",
      "        <td>Pole North</td>\n",
      "    </tr>\n",
      "</table>\n",
      "<div style=\"color:#FF2299\">\n",
      "    <p>Los elementos incluidos se procesan con HTML5 por lo que hay que tener encuenta las opciones a incluir.</p>\n",
      "</div>\n",
      "----\n",
      "\n",
      "La cantidad de opciones para dar formato al texto en las celdas markdown es amplia. Sin embargo, existen algunas restricciones como por ejemplo para integrar c\u00f3digo html de dene dejar linea vacia antes de iniciar, adem\u00e1s el primer y ultimo elemento no deben tener ning\u00fan espacio que los precede. **Para una explicaci\u00f3n m\u00e1s detallada se puede consultar este [enlace](http://daringfireball.net/projects/markdown/syntax)**\n",
      "\n",
      "<br>\n",
      "\n",
      "####Imagenes\n",
      "<br>\n",
      "Una de las opciones m\u00e1s interesantes es la capacidad de incluir imagenes en las celdas markdown y el comando es bastante simple\n",
      "\n",
      "```![una imagen](/files/images/diododevacio.png \"Diodo de Vacio\")\n",
      "```\n",
      "![una imagen](/files/images/diododevacio.png \"Diodo de Vacio\")\n",
      "\n",
      "Es importante notar que a diferencia del [manual](http://daringfireball.net/projects/markdown/syntax) de markdown, en las celdas de ipython es necesario incluir *'/files/'* antes de la trayectoria de la imagen, para que el web server tornado utilizado por ipython sepa que es un archivo local.\n",
      "\n",
      "Sin embargo, debido algunos *bugs* en la version 0.13.1 es recomendable el uso del comando\n",
      "\n",
      "```<p align=\"center\"><img src=\"/files/images/diododevacio.png\" alt=\"una image\" title=\"Diodo de Vacio\" style=\"max-width:20%\" ></p>\n",
      "```\n",
      "\n",
      "<p align=\"center\"><img src=\"/files/images/diododevacio.png\" alt=\"una image\" title=\"Diodo de Vacio\" style=\"max-width:20%\" ></p>\n",
      "\n",
      "<br>"
     ]
    },
    {
     "cell_type": "markdown",
     "metadata": {},
     "source": [
      "###MathJax\n",
      "\n",
      "<br>\n",
      "Una opci\u00f3n muy \u00fatil en las notebooks es la inclusi\u00f3n de MathJax para la inclusi\u00f3n de expresiones matem\u00e1ticas con formato Latex.\n",
      "\n",
      "*Ejemplo*\n",
      "\n",
      "```\\begin{equation}\n",
      "x=y\n",
      "\\end{equation}\n",
      "```\n",
      "\n",
      "\\begin{equation}\n",
      "x=y\n",
      "\\end{equation}\n",
      "```De forma similar a latex se puede incluir referencia a una ecuaci\u00f3n con el comando \\eqref{eq:sample}\n",
      "```\n",
      "In equation \\eqref{eq:sample}, we find the value of an\n",
      "interesting integral:\n",
      "\n",
      "\\begin{equation}\n",
      "  \\int_0^\\infty \\frac{x^3}{e^x-1}\\,dx = \\frac{\\pi^4}{15}\n",
      "  \\label{eq:sample}\n",
      "\\end{equation}\n",
      "**Mathjax BUGS**\n",
      "\n",
      "Mathjax es una implementaci\u00f3n parcial de latex en javascript, por lo que no tiene todas las capacidades de latex. Adem\u00e1s, de que puede ocurrir un error al ejecutar el comando en la maquina de javascript del browser, por lo que en ocaciones no se muestra la expresi\u00f3n de forma correcta, siendo necesario salvar el trabajar y refrescar la pagina."
     ]
    },
    {
     "cell_type": "markdown",
     "metadata": {},
     "source": [
      "##Shortcuts (Accesos Rapidos)\n",
      "\n",
      "El ipython ofrece un acceso rapido por teclado a las funciones b\u00e1sicas, con la combinacion ctrl+m y una tecla de acuerdo, las tareas posibles son:\n",
      "\n",
      "* Shift-Enter : run cell\n",
      "* Ctrl-Enter : run cell in-place\n",
      "* Ctrl-m x : cut cell\n",
      "* Ctrl-m c : copy cell\n",
      "* Ctrl-m v : paste cell\n",
      "* Ctrl-m d : delete cell\n",
      "* Ctrl-m a : insert cell above\n",
      "* Ctrl-m b : insert cell below\n",
      "* Ctrl-m o : toggle output\n",
      "* Ctrl-m O : toggle output scroll\n",
      "* Ctrl-m l : toggle line numbers\n",
      "* Ctrl-m s : save notebook\n",
      "* Ctrl-m j : move cell down\n",
      "* Ctrl-m k : move cell up\n",
      "* Ctrl-m y : code cell\n",
      "* Ctrl-m m : markdown cell\n",
      "* Ctrl-m t : raw cell\n",
      "* Ctrl-m 1-6 : heading 1-6 cell\n",
      "* Ctrl-m p : select previous\n",
      "* Ctrl-m n : select next\n",
      "* Ctrl-m i : interrupt kernel\n",
      "* Ctrl-m . : restart kernel\n",
      "* Ctrl-m h : show keyboard shortcuts"
     ]
    },
    {
     "cell_type": "markdown",
     "metadata": {},
     "source": [
      "##Links\n",
      "\n",
      "Para hace enlace a un archivo basta con incluir el comando ```[Lo que aparece en el celda](/files/path to file)``` [imagen](/files/images/bandas_valencia.png), para hacer enlace a paginas es ```[lo que aparce en la celda](url:http://someadress)``` [enlace](http://www.uabc.mx)"
     ]
    },
    {
     "cell_type": "markdown",
     "metadata": {},
     "source": [
      "##Exportar\n",
      "\n",
      "La Notebook permite exportar a html o pdf, basta seleccionar la opci\u00f3n *file -> print view*, se creera una pagina html con los datos del notebook, la cual se puede salvar o imprimir como un archivo pdf (esta opci\u00f3n depende del sistema operativo). Adem\u00e1s, las notebook se pueden descargar en un formato nativo con la extensi\u00f3n .ipynb y se pueden importar entro enterno ipython arrastrandolas al listado de notebooks en el dashboard.\n",
      "\n"
     ]
    },
    {
     "cell_type": "markdown",
     "metadata": {},
     "source": [
      "##Configuraci\u00f3n\n",
      "\n",
      "Una ves instlado el ipython, este se ejecuta como un proceso local (solo accesible en la misma computadora) con el comando:\n",
      "\n",
      "ipython notebook.\n",
      "\n",
      "Con el comando anterior se abre de manera automatico el navegador web en el browser, no se carga ninguna libreria u opci\u00f3n extra y la notebook se comporta como un terminal ipython. De esta forma si se incluyen gr\u00e1ficas con la libreria matplotlib, estas aperaceran como una ventana externa al browser. Si se desea que las imagenes que se produzcan se incluyan en la misma notebook es necesario el comando\n",
      "\n",
      "ipython notebook --pylab=inline.\n",
      "\n",
      "Este comando iniciara la notebook con la libreria pylab de matplotlib, la cual permite realziar gr\u00e1ficas en 2d y 3d, junto a numpy y scipy es posible realizar diversos calculos numericos. Si adem\u00e1s agregamos la librer\u00eda sympy podemos realizar calculo simbolico.\n",
      "\n",
      "En caso de querer un configuraci\u00f3n personal es necesario crear un profile, lo cual se hace con el comando\n",
      "\n",
      "ipython profile create nombre-profile\n",
      "\n",
      "este comando crea la carpeta ~/.config/ipython/profile_nombre-profile (linux,mac), en la existe el archivo **ipython_notebook_config.py**\n",
      "\n",
      "Descomentar las siguientes instrucciones\n",
      "\n",
      "* c = get_config()\n",
      "* c.NotebookApp.ip = '*'\n",
      "\n",
      "    Este comando permite que la notebook sea publica y se puede accesar de cualquier direccion de IP de la maquina incluidas las direcciones publicas\n",
      "\n",
      "* c.NotebookApp.port = 9000\n",
      "\n",
      "    Este comando configura el puerto donde se escuchara el servidor\n",
      "\n",
      "* c.NotebookApp.enable_mathjax = True\n",
      "\n",
      "    Este comando activa el mathjax\n",
      "\n",
      "* c.NotebookApp.open_browser = False\n",
      "\n",
      "* c.NotebookApp.certfile = '/home/mmiranda/mycert.pem'\n",
      "    \n",
      "    Este comando activa el uso del https con el comando *openssl req -x509 -nodes -days 365 -newkey rsa:1024 -keyout mycert.pem -out mycert.pem*\n",
      "\n",
      "* c.NotebookApp.password = 'sha1:a9c016b96f6b:262036ed984d95aa56cce6e00ac77761ecbb1b38'\n",
      "\n",
      "    Esta password se genera en ipython\n",
      "\n",
      "    ```In [1]: from IPython.lib import passwd\n",
      "    In [2]: passwd()\n",
      "    Enter password:\n",
      "    Verify password:\n",
      "    Out[2]: 'sha1:67c9e60bb8b6:9ffede0825894254b2e042ea597d771089e11aed'\n",
      "    ```\n",
      "\n",
      "* c.NotebookManager.notebook_dir = '/home/mmiranda/Dropbox/ipython'\n",
      "\n",
      "\n"
     ]
    },
    {
     "cell_type": "code",
     "collapsed": false,
     "input": [],
     "language": "python",
     "metadata": {},
     "outputs": []
    },
    {
     "cell_type": "markdown",
     "metadata": {},
     "source": [
      "###Ecuaciones numeradas\n",
      "\n",
      "Para lograr que las ecuaciones en mathjax esten numeradas y centradas, es necesario editar el archivo *initmathjax.js* (su ubicaci\u00f3n depende del Sistema operativo), editando \n",
      "\n",
      "```            MathJax.Hub.Config({\n",
      "                tex2jax: {\n",
      "                    inlineMath: [ ['$','$'], [\"\\\\(\",\"\\\\)\"] ],\n",
      "                    displayMath: [ ['$$','$$'], [\"\\\\[\",\"\\\\]\"] ]\n",
      "                },\n",
      "                displayAlign: 'left', // Change this to 'center' to center equations.\n",
      "```\n",
      "\n",
      "por\n",
      "\n",
      "```\n",
      "            MathJax.Hub.Config({\n",
      "\t\tTeX: { equationNumbers: { autoNumber: \"AMS\" },\n",
      "\t\t\textensions: [\"AMSmath.js\", \"AMSsymbols.js\"] },\n",
      "                tex2jax: {\n",
      "                    inlineMath: [ ['$','$'], [\"\\\\(\",\"\\\\)\"] ],\n",
      "                    displayMath: [ ['$$','$$'], [\"\\\\[\",\"\\\\]\"] ]\n",
      "                },\n",
      "        displayAlign: 'center', // Change this to 'center' to center equations.\n",
      "```"
     ]
    },
    {
     "cell_type": "markdown",
     "metadata": {},
     "source": [
      "###Formato del texto\n",
      "\n",
      "Para cambiar la apariencia del texto es necesario modificar el archivo ***renderedhtml.css*** y ***page.css***, en el cual se pueden en el directorio *IPython/frontend/html/notebook/static/css* (su ubicaci\u00f3n depende del Sistema operativo), estos archivos son las hojas de estilo que controlan la apariencia de las notebooks.\n",
      "\n",
      "**Nota:** Est\u00e1 pagina se modificaron los colores y el tama\u00f1o de letra"
     ]
    },
    {
     "cell_type": "markdown",
     "metadata": {},
     "source": [
      "#Numpy\n",
      "\n",
      "Es una de las librerias para analis\u00eds n\u00famerico m\u00e1s completa en  python, se basa principalmente en el uso de arreglos matriciales, algo similar a matlab, sin embargo, al ser una librer\u00eda se diferenc\u00edan de los arreglos nativos de python. Es importante tener en cuenta que los objetos creados con numpy son operados unicamente por librerias compatibles.\n",
      "\n",
      "##The Basics\n",
      "NumPy's main object is the homogeneous multidimensional array. It is a table of elements (usually numbers), all of the same type, indexed by a tuple of positive integers. In Numpy dimensions are called **axes**. The number of axes is **rank.**\n",
      "\n",
      "For example, the coordinates of a point in 3D space [1, 2, 1] is an array of rank 1, because it has one axis. That axis has a length of 3. In example pictured below, the array has rank 2 (it is 2-dimensional). The first dimension (axis) has a length of 2, the second dimension has a length of 3."
     ]
    },
    {
     "cell_type": "code",
     "collapsed": false,
     "input": [
      "from matplotlib import pylab "
     ],
     "language": "python",
     "metadata": {},
     "outputs": [],
     "prompt_number": 42
    },
    {
     "cell_type": "code",
     "collapsed": false,
     "input": [
      "[[ 1., 0., 0.],\n",
      " [ 0., 1., 2.]]"
     ],
     "language": "python",
     "metadata": {},
     "outputs": [
      {
       "metadata": {},
       "output_type": "pyout",
       "prompt_number": 3,
       "text": [
        "[[1.0, 0.0, 0.0], [0.0, 1.0, 2.0]]"
       ]
      }
     ],
     "prompt_number": 3
    },
    {
     "cell_type": "markdown",
     "metadata": {},
     "source": [
      "Numpy's array class is called ndarray. It is also known by the alias array. Note that numpy.array is not the same as the Standard Python Library class array.array, which only handles one-dimensional arrays and offers less functionality. The more important attributes of an ndarray object are:\n",
      "\n",
      "* **ndarray.ndim**\n",
      "the number of axes (dimensions) of the array. In the Python world, the number of dimensions is referred to as rank.\n",
      "\n",
      "* **ndarray.shape**\n",
      "the dimensions of the array. This is a tuple of integers indicating the size of the array in each dimension. For a matrix with n rows and m columns, shape will be (n,m). The length of the shape tuple is therefore the rank, or number of dimensions, ndim.\n",
      "\n",
      "* **ndarray.size**\n",
      "the total number of elements of the array. This is equal to the product of the elements of shape.\n",
      "\n",
      "* **ndarray.dtype**\n",
      "an object describing the type of the elements in the array. One can create or specify dtype's using standard Python types. Additionally NumPy provides types of its own. numpy.int32, numpy.int16, and numpy.float64 are some examples.\n",
      "\n",
      "* **ndarray.itemsize**\n",
      "the size in bytes of each element of the array. For example, an array of elements of type float64 has itemsize 8 (=64/8), while one of type complex32 has itemsize 4 (=32/8). It is equivalent to ndarray.dtype.itemsize.\n",
      "\n",
      "* **ndarray.data**\n",
      "the buffer containing the actual elements of the array. Normally, we won't need to use this attribute because we will access the elements in an array using indexing facilities."
     ]
    },
    {
     "cell_type": "markdown",
     "metadata": {},
     "source": [
      "###Example"
     ]
    },
    {
     "cell_type": "code",
     "collapsed": false,
     "input": [
      "from numpy import *\n",
      "a = arange(16).reshape(4, 4)\n",
      "a"
     ],
     "language": "python",
     "metadata": {},
     "outputs": [
      {
       "metadata": {},
       "output_type": "pyout",
       "prompt_number": 4,
       "text": [
        "array([[ 0,  1,  2,  3],\n",
        "       [ 4,  5,  6,  7],\n",
        "       [ 8,  9, 10, 11],\n",
        "       [12, 13, 14, 15]])"
       ]
      }
     ],
     "prompt_number": 4
    },
    {
     "cell_type": "code",
     "collapsed": false,
     "input": [
      "a.shape"
     ],
     "language": "python",
     "metadata": {},
     "outputs": [
      {
       "metadata": {},
       "output_type": "pyout",
       "prompt_number": 5,
       "text": [
        "(4, 4)"
       ]
      }
     ],
     "prompt_number": 5
    },
    {
     "cell_type": "code",
     "collapsed": false,
     "input": [
      "a.ndim"
     ],
     "language": "python",
     "metadata": {},
     "outputs": [
      {
       "metadata": {},
       "output_type": "pyout",
       "prompt_number": 6,
       "text": [
        "2"
       ]
      }
     ],
     "prompt_number": 6
    },
    {
     "cell_type": "code",
     "collapsed": false,
     "input": [
      "a.dtype.name"
     ],
     "language": "python",
     "metadata": {},
     "outputs": [
      {
       "metadata": {},
       "output_type": "pyout",
       "prompt_number": 7,
       "text": [
        "'int32'"
       ]
      }
     ],
     "prompt_number": 7
    },
    {
     "cell_type": "code",
     "collapsed": false,
     "input": [
      "a.itemsize"
     ],
     "language": "python",
     "metadata": {},
     "outputs": [
      {
       "metadata": {},
       "output_type": "pyout",
       "prompt_number": 8,
       "text": [
        "4"
       ]
      }
     ],
     "prompt_number": 8
    },
    {
     "cell_type": "code",
     "collapsed": false,
     "input": [
      "a.size"
     ],
     "language": "python",
     "metadata": {},
     "outputs": [
      {
       "metadata": {},
       "output_type": "pyout",
       "prompt_number": 9,
       "text": [
        "16"
       ]
      }
     ],
     "prompt_number": 9
    },
    {
     "cell_type": "code",
     "collapsed": false,
     "input": [
      "type(a)"
     ],
     "language": "python",
     "metadata": {},
     "outputs": [
      {
       "metadata": {},
       "output_type": "pyout",
       "prompt_number": 10,
       "text": [
        "numpy.ndarray"
       ]
      }
     ],
     "prompt_number": 10
    },
    {
     "cell_type": "code",
     "collapsed": false,
     "input": [
      "b = array([6, 7, 8])\n",
      "b"
     ],
     "language": "python",
     "metadata": {},
     "outputs": [
      {
       "metadata": {},
       "output_type": "pyout",
       "prompt_number": 11,
       "text": [
        "array([6, 7, 8])"
       ]
      }
     ],
     "prompt_number": 11
    },
    {
     "cell_type": "code",
     "collapsed": false,
     "input": [
      "type(b)"
     ],
     "language": "python",
     "metadata": {},
     "outputs": [
      {
       "metadata": {},
       "output_type": "pyout",
       "prompt_number": 12,
       "text": [
        "numpy.ndarray"
       ]
      }
     ],
     "prompt_number": 12
    },
    {
     "cell_type": "markdown",
     "metadata": {},
     "source": [
      "#Array Creation\n",
      "There are several ways to create arrays.\n",
      "For example, you can create an array from a regular Python list or tuple using the array function. The type of the resulting array is deduced from the type of the elements in the sequences.\n"
     ]
    },
    {
     "cell_type": "code",
     "collapsed": false,
     "input": [
      "a = array( [2,3,4] )\n",
      "a"
     ],
     "language": "python",
     "metadata": {},
     "outputs": [
      {
       "metadata": {},
       "output_type": "pyout",
       "prompt_number": 13,
       "text": [
        "array([2, 3, 4])"
       ]
      }
     ],
     "prompt_number": 13
    },
    {
     "cell_type": "code",
     "collapsed": false,
     "input": [
      "a.dtype"
     ],
     "language": "python",
     "metadata": {},
     "outputs": [
      {
       "metadata": {},
       "output_type": "pyout",
       "prompt_number": 14,
       "text": [
        "dtype('int32')"
       ]
      }
     ],
     "prompt_number": 14
    },
    {
     "cell_type": "code",
     "collapsed": false,
     "input": [
      "b = array([1.2, 3.5, 5.1])\n",
      "b"
     ],
     "language": "python",
     "metadata": {},
     "outputs": [
      {
       "metadata": {},
       "output_type": "pyout",
       "prompt_number": 15,
       "text": [
        "array([ 1.2,  3.5,  5.1])"
       ]
      }
     ],
     "prompt_number": 15
    },
    {
     "cell_type": "code",
     "collapsed": false,
     "input": [
      "b.dtype"
     ],
     "language": "python",
     "metadata": {},
     "outputs": [
      {
       "metadata": {},
       "output_type": "pyout",
       "prompt_number": 16,
       "text": [
        "dtype('float64')"
       ]
      }
     ],
     "prompt_number": 16
    },
    {
     "cell_type": "markdown",
     "metadata": {},
     "source": [
      "A frequent error consists in calling array with multiple numeric arguments, rather than providing a single list of numbers as an argument."
     ]
    },
    {
     "cell_type": "code",
     "collapsed": false,
     "input": [
      "a = array(1,2,3,4)    # WRONG"
     ],
     "language": "python",
     "metadata": {},
     "outputs": [
      {
       "ename": "ValueError",
       "evalue": "only 2 non-keyword arguments accepted",
       "output_type": "pyerr",
       "traceback": [
        "\u001b[1;31m---------------------------------------------------------------------------\u001b[0m\n\u001b[1;31mValueError\u001b[0m                                Traceback (most recent call last)",
        "\u001b[1;32m<ipython-input-17-501541f17041>\u001b[0m in \u001b[0;36m<module>\u001b[1;34m()\u001b[0m\n\u001b[1;32m----> 1\u001b[1;33m \u001b[0ma\u001b[0m \u001b[1;33m=\u001b[0m \u001b[0marray\u001b[0m\u001b[1;33m(\u001b[0m\u001b[1;36m1\u001b[0m\u001b[1;33m,\u001b[0m\u001b[1;36m2\u001b[0m\u001b[1;33m,\u001b[0m\u001b[1;36m3\u001b[0m\u001b[1;33m,\u001b[0m\u001b[1;36m4\u001b[0m\u001b[1;33m)\u001b[0m    \u001b[1;31m# WRONG\u001b[0m\u001b[1;33m\u001b[0m\u001b[0m\n\u001b[0m",
        "\u001b[1;31mValueError\u001b[0m: only 2 non-keyword arguments accepted"
       ]
      }
     ],
     "prompt_number": 17
    },
    {
     "cell_type": "code",
     "collapsed": false,
     "input": [
      "a = array([1,2,3,4])  # RIGHT"
     ],
     "language": "python",
     "metadata": {},
     "outputs": []
    },
    {
     "cell_type": "code",
     "collapsed": false,
     "input": [
      "b = array( [ (1.5,2,3), (4,5,6) ] )\n",
      "b"
     ],
     "language": "python",
     "metadata": {},
     "outputs": []
    },
    {
     "cell_type": "code",
     "collapsed": false,
     "input": [
      "c = array( [ [1,2], [3,4] ], dtype=complex )\n",
      "c"
     ],
     "language": "python",
     "metadata": {},
     "outputs": []
    },
    {
     "cell_type": "markdown",
     "metadata": {},
     "source": [
      "Often, the elements of an array are originally unknown, but its size is known. Hence, NumPy offers several functions to create arrays with initial placeholder content. These minimize the necessity of growing arrays, an expensive operation.\n",
      "The function zeros creates an array full of zeros, the function ones creates an array full of ones, and the function empty creates an array whose initial content is random and depends on the state of the memory. By default, the dtype of the created array is float64."
     ]
    },
    {
     "cell_type": "code",
     "collapsed": false,
     "input": [
      "zeros( (3,4) )"
     ],
     "language": "python",
     "metadata": {},
     "outputs": []
    },
    {
     "cell_type": "code",
     "collapsed": false,
     "input": [
      "ones( (2,3,4), dtype=int16 )"
     ],
     "language": "python",
     "metadata": {},
     "outputs": []
    },
    {
     "cell_type": "code",
     "collapsed": false,
     "input": [
      "empty( (2,3) )"
     ],
     "language": "python",
     "metadata": {},
     "outputs": []
    },
    {
     "cell_type": "markdown",
     "metadata": {},
     "source": [
      "To create sequences of numbers, NumPy provides a function analogous to range that returns arrays instead of lists"
     ]
    },
    {
     "cell_type": "code",
     "collapsed": false,
     "input": [
      "arange( 10, 30, 5 )"
     ],
     "language": "python",
     "metadata": {},
     "outputs": []
    },
    {
     "cell_type": "code",
     "collapsed": false,
     "input": [
      "arange( 0, 2, 0.3 )                 # it accepts float arguments"
     ],
     "language": "python",
     "metadata": {},
     "outputs": []
    },
    {
     "cell_type": "markdown",
     "metadata": {},
     "source": [
      "When arange is used with floating point arguments, it is generally not possible to predict the number of elements obtained, due to the finite floating point precision. For this reason, it is usually better to use the function linspace that receives as an argument the number of elements that we want, instead of the step:"
     ]
    },
    {
     "cell_type": "code",
     "collapsed": false,
     "input": [
      "linspace( 0, 2, 9 )                 # 9 numbers from 0 to 2"
     ],
     "language": "python",
     "metadata": {},
     "outputs": [
      {
       "metadata": {},
       "output_type": "pyout",
       "prompt_number": 31,
       "text": [
        "array([ 0.  ,  0.25,  0.5 ,  0.75,  1.  ,  1.25,  1.5 ,  1.75,  2.  ])"
       ]
      }
     ],
     "prompt_number": 31
    },
    {
     "cell_type": "code",
     "collapsed": false,
     "input": [
      "x = linspace( 0, 2*pi, 100 )        # useful to evaluate function at lots of points"
     ],
     "language": "python",
     "metadata": {},
     "outputs": [],
     "prompt_number": 1
    },
    {
     "cell_type": "code",
     "collapsed": false,
     "input": [
      "f = sin(x)"
     ],
     "language": "python",
     "metadata": {},
     "outputs": [],
     "prompt_number": 2
    },
    {
     "cell_type": "markdown",
     "metadata": {},
     "source": [
      "Se crear\u00e1 una graf\u00edca de los datos, para eso hay utilizar la librer\u00eda pylab, en el caso de est\u00e1 notebook esta activa por default.\n",
      "from matplotlib.pylab import *"
     ]
    },
    {
     "cell_type": "code",
     "collapsed": false,
     "input": [
      "# Create a new figure of size 8x6 points, using 80 dots per inch\n",
      "matplotlib.rcParams.update({'font.size': 18})\n",
      "figure(figsize=(14,10), dpi=150)\n",
      "xlabel('x', fontsize=20)\n",
      "ylabel('Sin(x)', fontsize=20)\n",
      "xlim(xmin=0, xmax=2*pi)\n",
      "ylim(ymin=-1.1, ymax=1.1)\n",
      "plot(x,f)\n",
      "grid()"
     ],
     "language": "python",
     "metadata": {},
     "outputs": [
      {
       "metadata": {},
       "output_type": "display_data",
       "png": "[encoded data removed]",
       "text": [
        "<matplotlib.figure.Figure at 0x7ad1b38>"
       ]
      }
     ],
     "prompt_number": 19
    },
    {
     "cell_type": "markdown",
     "metadata": {},
     "source": [
      "##Printing Arrays\n",
      "When you print an array, NumPy displays it in a similar way to nested lists, but with the following layout:\n",
      "the last axis is printed from left to right,\n",
      "the second-to-last is printed from top to bottom,\n",
      "the rest are also printed from top to bottom, with each slice separated from the next by an empty line.\n",
      "One-dimensional arrays are then printed as rows, bidimensionals as matrices and tridimensionals as lists of matrices."
     ]
    },
    {
     "cell_type": "code",
     "collapsed": false,
     "input": [
      "print(a)"
     ],
     "language": "python",
     "metadata": {},
     "outputs": [
      {
       "output_type": "stream",
       "stream": "stdout",
       "text": [
        "[20 30 40 50]\n"
       ]
      }
     ],
     "prompt_number": 30
    },
    {
     "cell_type": "code",
     "collapsed": false,
     "input": [
      "b = arange(12).reshape(4,3)    \n",
      "print b"
     ],
     "language": "python",
     "metadata": {},
     "outputs": []
    },
    {
     "cell_type": "code",
     "collapsed": false,
     "input": [
      "c = arange(24).reshape(2,3,4)         # 3d array\n",
      "print c"
     ],
     "language": "python",
     "metadata": {},
     "outputs": []
    },
    {
     "cell_type": "code",
     "collapsed": false,
     "input": [
      "d = arange(24).reshape(3,2,4)         # 3d array\n",
      "print d"
     ],
     "language": "python",
     "metadata": {},
     "outputs": []
    },
    {
     "cell_type": "code",
     "collapsed": false,
     "input": [
      "print arange(10000)"
     ],
     "language": "python",
     "metadata": {},
     "outputs": []
    },
    {
     "cell_type": "code",
     "collapsed": false,
     "input": [
      "print arange(10000).reshape(100,100)"
     ],
     "language": "python",
     "metadata": {},
     "outputs": []
    },
    {
     "cell_type": "markdown",
     "metadata": {},
     "source": [
      "##Basic Operations\n",
      "Arithmetic operators on arrays apply elementwise. A new array is created and filled with the result."
     ]
    },
    {
     "cell_type": "code",
     "collapsed": false,
     "input": [
      "a = array( [20,30,40,50] )\n",
      "b = arange( 4 )\n",
      "print(a,b)"
     ],
     "language": "python",
     "metadata": {},
     "outputs": [
      {
       "output_type": "stream",
       "stream": "stdout",
       "text": [
        "[20 30 40 50] [0 1 2 3]\n"
       ]
      }
     ],
     "prompt_number": 24
    },
    {
     "cell_type": "code",
     "collapsed": false,
     "input": [
      "c = a-b\n",
      "print(c)"
     ],
     "language": "python",
     "metadata": {},
     "outputs": [
      {
       "output_type": "stream",
       "stream": "stdout",
       "text": [
        "[20 29 38 47]\n"
       ]
      }
     ],
     "prompt_number": 25
    },
    {
     "cell_type": "markdown",
     "metadata": {},
     "source": [
      "La operaci\u00f3n de elevar a una potencia es con **"
     ]
    },
    {
     "cell_type": "code",
     "collapsed": false,
     "input": [
      "b**2"
     ],
     "language": "python",
     "metadata": {},
     "outputs": [
      {
       "metadata": {},
       "output_type": "pyout",
       "prompt_number": 26,
       "text": [
        "array([0, 1, 4, 9])"
       ]
      }
     ],
     "prompt_number": 26
    },
    {
     "cell_type": "code",
     "collapsed": false,
     "input": [
      "10*sin(a)"
     ],
     "language": "python",
     "metadata": {},
     "outputs": [
      {
       "metadata": {},
       "output_type": "pyout",
       "prompt_number": 27,
       "text": [
        "array([ 9.12945251, -9.88031624,  7.4511316 , -2.62374854])"
       ]
      }
     ],
     "prompt_number": 27
    },
    {
     "cell_type": "code",
     "collapsed": false,
     "input": [
      "a<35"
     ],
     "language": "python",
     "metadata": {},
     "outputs": [
      {
       "metadata": {},
       "output_type": "pyout",
       "prompt_number": 28,
       "text": [
        "array([ True,  True, False, False], dtype=bool)"
       ]
      }
     ],
     "prompt_number": 28
    },
    {
     "cell_type": "markdown",
     "metadata": {},
     "source": [
      "Unlike in many matrix languages, the product operator * operates elementwise in NumPy arrays. The matrix product can be performed using the dot function or creating matrix objects ( see matrix section of this tutorial )."
     ]
    },
    {
     "cell_type": "code",
     "collapsed": false,
     "input": [
      "A = array( [[1,1],\n",
      "            [0,1]])\n",
      "B = array( [[2,0],\n",
      "            [3,4]])"
     ],
     "language": "python",
     "metadata": {},
     "outputs": []
    },
    {
     "cell_type": "code",
     "collapsed": false,
     "input": [
      "print A*B"
     ],
     "language": "python",
     "metadata": {},
     "outputs": []
    },
    {
     "cell_type": "code",
     "collapsed": false,
     "input": [
      "print dot(A,B)"
     ],
     "language": "python",
     "metadata": {},
     "outputs": []
    },
    {
     "cell_type": "markdown",
     "metadata": {},
     "source": [
      "Recordar que la funci\u00f3n dot(), sigue las reglas de algebra matricial"
     ]
    },
    {
     "cell_type": "code",
     "collapsed": false,
     "input": [
      "A = array([[2, 2]])\n",
      "print A\n",
      "print A.shape\n",
      "print dot(A,B)"
     ],
     "language": "python",
     "metadata": {},
     "outputs": []
    },
    {
     "cell_type": "markdown",
     "metadata": {},
     "source": [
      "Some operations, such as += and *=, act in place to modify an existing array rather than create a new one."
     ]
    },
    {
     "cell_type": "code",
     "collapsed": false,
     "input": [
      "a = ones((2,3), dtype=int)\n",
      "b = random.random((2,3))\n",
      "b"
     ],
     "language": "python",
     "metadata": {},
     "outputs": [
      {
       "metadata": {},
       "output_type": "pyout",
       "prompt_number": 20,
       "text": [
        "array([[ 0.47278585,  0.44665306,  0.13696122],\n",
        "       [ 0.79324616,  0.91616741,  0.48150802]])"
       ]
      }
     ],
     "prompt_number": 20
    },
    {
     "cell_type": "code",
     "collapsed": false,
     "input": [
      "a *= 3\n",
      "a"
     ],
     "language": "python",
     "metadata": {},
     "outputs": [
      {
       "metadata": {},
       "output_type": "pyout",
       "prompt_number": 21,
       "text": [
        "array([[3, 3, 3],\n",
        "       [3, 3, 3]])"
       ]
      }
     ],
     "prompt_number": 21
    },
    {
     "cell_type": "code",
     "collapsed": false,
     "input": [
      "b += a\n",
      "b"
     ],
     "language": "python",
     "metadata": {},
     "outputs": [
      {
       "metadata": {},
       "output_type": "pyout",
       "prompt_number": 22,
       "text": [
        "array([[ 3.47278585,  3.44665306,  3.13696122],\n",
        "       [ 3.79324616,  3.91616741,  3.48150802]])"
       ]
      }
     ],
     "prompt_number": 22
    },
    {
     "cell_type": "code",
     "collapsed": false,
     "input": [
      "a += b\n",
      "a"
     ],
     "language": "python",
     "metadata": {},
     "outputs": [
      {
       "metadata": {},
       "output_type": "pyout",
       "prompt_number": 23,
       "text": [
        "array([[6, 6, 6],\n",
        "       [6, 6, 6]])"
       ]
      }
     ],
     "prompt_number": 23
    },
    {
     "cell_type": "code",
     "collapsed": false,
     "input": [],
     "language": "python",
     "metadata": {},
     "outputs": [],
     "prompt_number": 23
    }
   ],
   "metadata": {}
  }
 ]
}