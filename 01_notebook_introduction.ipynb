{
 "metadata": {
  "celltoolbar": "Raw Cell Format",
  "name": "",
  "signature": "sha256:a8b0eb5e66e634275dc6c6774f858bebcac213b016c69d2bf78b203bd11a1951"
 },
 "nbformat": 3,
 "nbformat_minor": 0,
 "worksheets": [
  {
   "cells": [
    {
     "cell_type": "markdown",
     "metadata": {},
     "source": [
      "<style>\n",
      "    #menu {\n",
      "        position: fixed;\n",
      "        right: 0;\n",
      "        top: 50%;\n",
      "        width: 15em;\n",
      "        margin: -2.5em 0 0 0;\n",
      "        z-index: 5;\n",
      "        background: hsla(80, 90%, 40%, 0.7);\n",
      "        color: white;\n",
      "        font: Georgia, \"Times New Roman\", Times, serif;\n",
      "        font-weight: normal;\n",
      "        font-size: 100%;\n",
      "        text-align: left;\n",
      "        border: solid hsla(80, 90%, 40%, 0.5);\n",
      "        border-right: none;\n",
      "        padding: 0.5em 0.5em 0.5em 2.5em;\n",
      "        box-shadow: 0 1px 3px black;\n",
      "        border-radius: 3em 0.5em 0.5em 3em;\n",
      "    }\n",
      "    #menu li { margin: 0 }\n",
      "    #menu a { color: inherit }\n",
      "\n",
      "    /* Make menu absolute, not fixed, on IE 5 & 6 */\n",
      "    #menu { position: absolute }\n",
      "    *>#menu { position: fixed }\n",
      "    \n",
      "    ul.nested\n",
      "    {\n",
      "        counter-reset: item\n",
      "    }\n",
      "    li.nested\n",
      "    {\n",
      "        display: block\n",
      "    }\n",
      "    li.nested:before\n",
      "    {\n",
      "        content: counters(item, \".\") \". \";\n",
      "        counter-increment: item\n",
      "    }\n",
      "</style>\n",
      "\n",
      "<ol class=\"nested\" id=\"menu\">\n",
      "    <li class=\"nested\"><a href=\"#User-interface\">User interface</a> \n",
      "        <ol class=\"nested\">\n",
      "            <li class=\"nested\"><a href=\"#Main-editing-area\">Main editing area</a>\n",
      "                <ol class=\"nested\">\n",
      "                    <li class=\"nested\"><a href=\"#Menu\">Menu</a></li>\n",
      "                </ol>\n",
      "            </li>\n",
      "            <li class=\"nested\"><a href=\"#Menu\">subitem 2</a></li>\n",
      "        </ol>\n",
      "    </li>\n",
      "    <li class=\"nested\"><a href=\"#item_2\">item 2</a></li>\n",
      "    <li class=\"nested\"><a href=\"#item_3\">item 3</a>\n",
      "</ol>"
     ]
    },
    {
     "cell_type": "heading",
     "level": 1,
     "metadata": {},
     "source": [
      "An introduction to the IPython notebook"
     ]
    },
    {
     "cell_type": "markdown",
     "metadata": {},
     "source": [
      "\n",
      "The IPython web notebook is a frontend that allows for new modes\n",
      "of interaction with IPython: this web-based interface allows you to execute Python and IPython\n",
      "commands in each input cell just like you would at the IPython terminal or Qt console, but you can\n",
      "also save an entire session as a document in a file with the `.ipynb` extension.\n",
      "\n",
      "The document you are reading now is precisely an example of one such notebook, and we will show you\n",
      "here how to best use this new interface.\n",
      "\n",
      "The first thing to understand is that a notebook consists of a sequence of 'cells' that can contain \n",
      "either text (such as this one) or code meant for execution (such as the next one):\n",
      "\n",
      "* Text cells can be written using [Markdown syntax](http://daringfireball.net/projects/markdown/syntax) \n",
      "(in a future release we will also provide support for reStructuredText and Sphinx integration, and we \n",
      "welcome help from interested contributors to make that happen).\n",
      "\n",
      "* Code cells take IPython input (i.e. Python code, `%magics`, `!system calls`, etc) like IPython at\n",
      "the terminal or at the Qt Console.  The only difference is that in order to execute a cell, you *must*\n",
      "use `Shift-Enter`, as pressing `Enter` will add a new line of text to the cell.  When you type \n",
      "`Shift-Enter`, the cell content is executed, output displayed and a new cell is created below.  Try\n",
      "it now by putting your cursor on the next cell and typing `Shift-Enter`:"
     ]
    },
    {
     "cell_type": "code",
     "collapsed": false,
     "input": [
      "\"New IPython notebook\""
     ],
     "language": "python",
     "metadata": {},
     "outputs": [
      {
       "metadata": {},
       "output_type": "pyout",
       "prompt_number": 6,
       "text": [
        "'New IPython notebook'"
       ]
      }
     ],
     "prompt_number": 6
    },
    {
     "cell_type": "markdown",
     "metadata": {},
     "source": [
      "You can re-execute the same cell over and over as many times as you want.  Simply put your\n",
      "cursor in the cell again, edit at will, and type `Shift-Enter` to execute.  \n",
      "\n",
      "**Tip:** A cell can also be executed\n",
      "*in-place*, where IPython executes its content but leaves the cursor in the same cell.  This is done by\n",
      "typing `Ctrl-Enter` instead, and is useful if you want to quickly run a command to check something \n",
      "before tping the real content you want to leave in the cell. For example, in the next cell, try issuing\n",
      "several system commands in-place with `Ctrl-Enter`, such as `pwd` and then `ls`:"
     ]
    },
    {
     "cell_type": "code",
     "collapsed": false,
     "input": [
      "ls"
     ],
     "language": "python",
     "metadata": {},
     "outputs": [
      {
       "output_type": "stream",
       "stream": "stdout",
       "text": [
        "\u001b[0m\u001b[01;32m01_notebook_introduction.ipynb\u001b[0m*\r\n",
        "Analisis del BJT.aux\r\n",
        "Analisis del BJT.dvi\r\n",
        "Analisis del BJT.html\r\n",
        "Analisis del BJT.ipynb\r\n",
        "Analisis del BJT.log\r\n",
        "Analisis del BJT.out\r\n",
        "Analisis del BJT.pdf\r\n",
        "Analisis del BJT.synctex.gz\r\n",
        "Analisis del BJT.tex\r\n",
        "\u001b[01;32mcir1.aux\u001b[0m*\r\n",
        "\u001b[01;32mcir1.idx\u001b[0m*\r\n",
        "\u001b[01;32mcir1.log\u001b[0m*\r\n",
        "\u001b[01;32mcir1.out\u001b[0m*\r\n",
        "\u001b[01;32mcir1.pdf\u001b[0m*\r\n",
        "\u001b[01;32mcir1.tex\u001b[0m*\r\n",
        "\u001b[01;32mcir2.aux\u001b[0m*\r\n",
        "\u001b[01;32mcir2.idx\u001b[0m*\r\n",
        "\u001b[01;32mcir2.log\u001b[0m*\r\n",
        "\u001b[01;32mcir2.out\u001b[0m*\r\n",
        "\u001b[01;32mcir2.pdf\u001b[0m*\r\n",
        "\u001b[01;32mcir2.tex\u001b[0m*\r\n",
        "\u001b[01;32mcir2.tex~\u001b[0m*\r\n",
        "\u001b[01;32mCircuito con un diodo Diodo.ipynb\u001b[0m*\r\n",
        "\u001b[01;32mCircuitos usando Diodos.aux\u001b[0m*\r\n",
        "\u001b[01;34mCircuitos usando Diodos_files\u001b[0m/\r\n",
        "\u001b[01;32mCircuitos usando Diodos.idx\u001b[0m*\r\n",
        "\u001b[01;32mCircuitos usando Diodos.ipynb\u001b[0m*\r\n",
        "\u001b[01;32mCircuitos usando Diodos.log\u001b[0m*\r\n",
        "\u001b[01;32mCircuitos usando Diodos.out\u001b[0m*\r\n",
        "\u001b[01;32mCircuitos usando Diodos.pdf\u001b[0m*\r\n",
        "Circuitos usando Diodos.tex\r\n",
        "\u001b[01;32mCircuitos usando Diodos.tex~\u001b[0m*\r\n",
        "\u001b[01;32mclave_complicado.txt\u001b[0m*\r\n",
        "\u001b[01;32mcurvasdiodos.txt\u001b[0m*\r\n",
        "\u001b[01;32mcustom.css\u001b[0m*\r\n",
        "\u001b[01;32mdatos1.db\u001b[0m*\r\n",
        "\u001b[01;32mDatos_villalpando.ipynb\u001b[0m*\r\n",
        "\u001b[01;32mdiodosimple.txt\u001b[0m*\r\n",
        "\u001b[01;32mespectro.png\u001b[0m*\r\n",
        "\u001b[01;32mExamen 1 Electronica Analogica.aux\u001b[0m*\r\n",
        "\u001b[01;32mExamen 1 Electronica Analogica.idx\u001b[0m*\r\n",
        "\u001b[01;32mExamen 1 Electronica Analogica.ipynb\u001b[0m*\r\n",
        "\u001b[01;32mExamen 1 Electronica Analogica.log\u001b[0m*\r\n",
        "\u001b[01;32mExamen 1 Electronica Analogica.out\u001b[0m*\r\n",
        "\u001b[01;32mExamen 1 Electronica Analogica.pdf\u001b[0m*\r\n",
        "\u001b[01;32mExamen 1 Electronica Analogica.tex\u001b[0m*\r\n",
        "\u001b[01;32mExamen 1 Electronica Analogica.tex~\u001b[0m*\r\n",
        "Fasores.ipynb\r\n",
        "Filtri_telecom_02.pdf\r\n",
        "\u001b[01;32mfiltrofuentedc.png\u001b[0m*\r\n",
        "\u001b[01;32mfiltrofuentedc.svg\u001b[0m*\r\n",
        "Filtros.aux\r\n",
        "\u001b[01;34mFiltros_files\u001b[0m/\r\n",
        "Filtros.ipynb\r\n",
        "Filtros.log\r\n",
        "Filtros.out\r\n",
        "Filtros.pdf\r\n",
        "Filtros.tex\r\n",
        "\u001b[01;32mfuentesimplesinfiltro.txt\u001b[0m*\r\n",
        "\u001b[01;32mfuentesimple.txt\u001b[0m*\r\n",
        "\u001b[01;32mgraf1.aux\u001b[0m*\r\n",
        "\u001b[01;32mgraf1.idx\u001b[0m*\r\n",
        "\u001b[01;32mgraf1.log\u001b[0m*\r\n",
        "\u001b[01;32mgraf1.out\u001b[0m*\r\n",
        "\u001b[01;32mgraf1.pdf\u001b[0m*\r\n",
        "\u001b[01;32mgraf1.tex\u001b[0m*\r\n",
        "\u001b[01;32mgraf2.aux\u001b[0m*\r\n",
        "\u001b[01;32mgraf2.idx\u001b[0m*\r\n",
        "\u001b[01;32mgraf2.log\u001b[0m*\r\n",
        "\u001b[01;32mgraf2.out\u001b[0m*\r\n",
        "\u001b[01;32mgraf2.pdf\u001b[0m*\r\n",
        "\u001b[01;32mgraf2.tex\u001b[0m*\r\n",
        "\u001b[01;32mgraf3.tex\u001b[0m*\r\n",
        "\u001b[01;32mgrafica_ganancia.ipynb\u001b[0m*\r\n",
        "\u001b[01;34mGraficar datos de ltspice_files\u001b[0m/\r\n",
        "\u001b[01;32mGraficar datos de ltspice.html\u001b[0m*\r\n",
        "\u001b[01;32mGraficar datos de ltspice.ipynb\u001b[0m*\r\n",
        "\u001b[01;32mGuia Rapida Math.ipynb\u001b[0m*\r\n",
        "Imagenes.aux\r\n",
        "\u001b[01;34mImagenes_files\u001b[0m/\r\n",
        "Imagenes.html\r\n",
        "Imagenes.ipynb\r\n",
        "Imagenes.log\r\n",
        "Imagenes.out\r\n",
        "Imagenes.pdf\r\n",
        "Imagenes.synctex.gz\r\n",
        "Imagenes.tex\r\n",
        "\u001b[34;42mimages\u001b[0m/\r\n",
        "\u001b[01;32mimages.zip\u001b[0m*\r\n",
        "\u001b[01;32mInstrumentacion.ipynb\u001b[0m*\r\n",
        "Intro (Manuels-iMac's conflicted copy 2013-05-14).ipynb\r\n",
        "\u001b[01;34mlatex\u001b[0m/\r\n",
        "\u001b[01;32mleer_notebooks.ipynb\u001b[0m*\r\n",
        "lena.png\r\n",
        "\u001b[01;32mmodulardoam[1].txt\u001b[0m*\r\n",
        "\u001b[01;32mmodulardoam.txt\u001b[0m*\r\n",
        "\u001b[01;32mnmos_curva2n7000.txt\u001b[0m*\r\n",
        "\u001b[01;32mnmos_curva.txt\u001b[0m*\r\n",
        "\u001b[01;32mnmos_ideal.png\u001b[0m*\r\n",
        "\u001b[01;32mPrimer Notebook.ipynb\u001b[0m*\r\n",
        "\u001b[01;32mPruebas_string.ipynb\u001b[0m*\r\n",
        "puentedediodos2a.txt\r\n",
        "\u001b[01;32mpuentedediodos2.txt\u001b[0m*\r\n",
        "puentedediodos2-utf8.txt\r\n",
        "\u001b[01;32mpuentedediodos_cap.txt\u001b[0m*\r\n",
        "\u001b[01;32mpuentedediodos.txt\u001b[0m*\r\n",
        "\u001b[01;32mPython for Matlab Users.ipynb\u001b[0m*\r\n",
        "\u001b[01;32mq.log\u001b[0m*\r\n",
        "README.md\r\n",
        "\u001b[01;32mspiral.png\u001b[0m*\r\n",
        "\u001b[01;32mtanquelc2.txt\u001b[0m*\r\n",
        "\u001b[01;32mtanquelcespectro.txt\u001b[0m*\r\n",
        "\u001b[01;32mtanquelcespectro.txt~\u001b[0m*\r\n",
        "\u001b[01;32mtanquelc.txt\u001b[0m*\r\n",
        "Termistor.ipynb\r\n",
        "Transitor de Union Bipolar (BJT).ipynb\r\n",
        "TS91ResTemp.csv\r\n",
        "\u001b[01;32mTypesetting Math Using MathJax.ipynb\u001b[0m*\r\n"
       ]
      }
     ],
     "prompt_number": 7
    },
    {
     "cell_type": "markdown",
     "metadata": {},
     "source": [
      "In a cell, you can type anything from a single python expression to an arbitrarily long amount of code \n",
      "(although for reasons of readability, you should probably limit this to a few dozen lines):"
     ]
    },
    {
     "cell_type": "code",
     "collapsed": false,
     "input": [
      "def f(x):\n",
      "    \"\"\"My function\n",
      "    x : parameter\"\"\"\n",
      "    \n",
      "    return x+1\n",
      "\n",
      "print \"f(3) = \", f(3)"
     ],
     "language": "python",
     "metadata": {},
     "outputs": [
      {
       "ename": "SyntaxError",
       "evalue": "invalid syntax (<ipython-input-8-d4832c2c16bf>, line 7)",
       "output_type": "pyerr",
       "traceback": [
        "\u001b[1;36m  File \u001b[1;32m\"<ipython-input-8-d4832c2c16bf>\"\u001b[1;36m, line \u001b[1;32m7\u001b[0m\n\u001b[1;33m    print \"f(3) = \", f(3)\u001b[0m\n\u001b[1;37m                  ^\u001b[0m\n\u001b[1;31mSyntaxError\u001b[0m\u001b[1;31m:\u001b[0m invalid syntax\n"
       ]
      }
     ],
     "prompt_number": 8
    },
    {
     "cell_type": "heading",
     "level": 2,
     "metadata": {},
     "source": [
      "User interface"
     ]
    },
    {
     "cell_type": "markdown",
     "metadata": {},
     "source": [
      "When you start a new notebook server with `ipython notebook`, your\n",
      "browser should open into the *Dashboard*, a page listing all notebooks\n",
      "available in the current directory as well as letting you create new\n",
      "notebooks.  In this page, you can also drag and drop existing `.py` files\n",
      "over the file list to import them as notebooks (see the manual for \n",
      "[further details on how these files are \n",
      "interpreted](http://ipython.org/ipython-doc/stable/interactive/htmlnotebook.html)).\n",
      "\n",
      "Once you open an existing notebook (like this one) or create a new one,\n",
      "you are in the main notebook interface, which consists of a main editing\n",
      "area (where these cells are contained) as well as a menu and \n",
      "permanent header area at the top, and a pager that rises from the\n",
      "bottom when needed and can be collapsed again."
     ]
    },
    {
     "cell_type": "heading",
     "level": 3,
     "metadata": {},
     "source": [
      "Main editing area"
     ]
    },
    {
     "cell_type": "markdown",
     "metadata": {},
     "source": [
      "Here, you can move with the arrow keys or using the \n",
      "scroll bars.  The cursor enters code cells immediately, but only selects\n",
      "text (markdown) cells without entering in them; to enter a text cell,\n",
      "use `Enter` (or double-click), and `Shift-Enter` to exit it again (just like to execute a \n",
      "code cell)."
     ]
    },
    {
     "cell_type": "heading",
     "level": 3,
     "metadata": {},
     "source": [
      "Menu"
     ]
    },
    {
     "cell_type": "markdown",
     "metadata": {},
     "source": [
      "The menu bar conains all the commands you can use to manipulate the notebook.\n",
      "\n",
      "The *File* menu has the usual open/save file operations, as well as Export,\n",
      "for downloading the notebook to your computer.\n",
      "\n",
      "*Edit* has controls for cut/copy/paste, and moving cells around.\n",
      "\n",
      "*View* lets you toggle visibility of the header elements,\n",
      "to recover precious screen real estate.\n",
      "\n",
      "The *Cell* menu lets you manipulate individual cells,\n",
      "and the names should be fairly self-explanatory.\n",
      "\n",
      "The *Kernel* menu lets you signal the kernel executing your code. \n",
      "`Interrupt` does the equivalent of hitting `Ctrl-C` at a terminal, and\n",
      "`Restart` fully kills the kernel process and starts a fresh one.  Obviously\n",
      "this means that all your previous variables are destroyed, but it also\n",
      "makes it easy to get a fresh kernel in which to re-execute a notebook, perhaps\n",
      "after changing an extension module for which Python's `reload` mechanism\n",
      "does not work.\n",
      "\n",
      "The *Help* menu contains links to the documentation of some projects\n",
      "closely related to IPython as well as the minimal keybindings you need to\n",
      "know.  But you should use `Ctrl-m h` (or click the `QuickHelp` button at\n",
      "the top) and learn some of the other keybindings, as it will make your \n",
      "workflow much more fluid and efficient.\n",
      "\n",
      "You will also see a few buttons there for common actions,\n",
      "and hovering over each button will tell you which command they correspond to,\n",
      "if the icons are not clear enough."
     ]
    },
    {
     "cell_type": "heading",
     "level": 3,
     "metadata": {},
     "source": [
      "Header bar"
     ]
    },
    {
     "cell_type": "markdown",
     "metadata": {},
     "source": [
      "The header area at the top allows you to rename an existing \n",
      "notebook and open up a short help tooltip.  This area also indicates\n",
      "with a red **Busy** mark on the right whenever the kernel is busy executing\n",
      "code."
     ]
    },
    {
     "cell_type": "heading",
     "level": 3,
     "metadata": {},
     "source": [
      "The pager at the bottom"
     ]
    },
    {
     "cell_type": "markdown",
     "metadata": {},
     "source": [
      "Whenever IPython needs to display additional \n",
      "information, such as when you type `somefunction?` in a cell, the notebook\n",
      "opens a pane at the bottom where this information is shown.  You can keep\n",
      "this pager pane open for reference (it doesn't block input in the main area)\n",
      "or dismiss it by clicking on its divider bar."
     ]
    },
    {
     "cell_type": "heading",
     "level": 3,
     "metadata": {},
     "source": [
      "Tab completion and tooltips"
     ]
    },
    {
     "cell_type": "markdown",
     "metadata": {},
     "source": [
      "The notebook uses the same underlying machinery for tab completion that \n",
      "IPython uses at the terminal, but displays the information differently.\n",
      "Whey you complete with the `Tab` key, IPython shows a drop list with all\n",
      "available completions.  If you type more characters while this list is open,\n",
      "IPython automatically eliminates from the list options that don't match the\n",
      "new characters; once there is only one option left you can hit `Tab` once\n",
      "more (or `Enter`) to complete.  You can also select the completion you\n",
      "want with the arrow keys or the mouse, and then hit `Enter`.\n",
      "\n",
      "In addition, if you hit `Tab` inside of open parentheses, IPython will \n",
      "search for the docstring of the last object left of the parens and will\n",
      "display it on a tooltip. For example, type `list(<TAB>` and you will\n",
      "see the docstring for the builtin `list` constructor:"
     ]
    },
    {
     "cell_type": "code",
     "collapsed": false,
     "input": [
      "# Position your cursor after the ( and hit the Tab key:\n",
      "range("
     ],
     "language": "python",
     "metadata": {},
     "outputs": []
    },
    {
     "cell_type": "markdown",
     "metadata": {},
     "source": [
      "Moreover, pressing tab several time in a row allows you change the behaviour of the tooltip.\n",
      "\n",
      "* first `tab` press, you get a classical tooltip\n",
      "* second tab, the tooltip grow vertically, and allow you to scroll the docstring\n",
      "* third tab, tooltip will be made sticky for 10 seconds, allowing you to carry on typing while it stays open.\n",
      "* forth tab, the tooltip help is sent to the pager at the bottom of the screen.\n",
      "<script>\n",
      "    IPython.tooltip.tabs_functions = [  function(cell,text){\n",
      "                                    IPython.tooltip._request_tooltip(cell,text);\n",
      "                                    IPython.notification_widget.set_message('tab again to expand pager',2500);\n",
      "                                    setTimeout(function(){\n",
      "                                        $('.tooltiptext pre').text(\"function signture : You've invoked a tooltip !\\n\\nWell done! Here usualy lies the current function *call signature* and it's *docstring*. You can now expand the tooltip pressing <tab> a second time...\")},400);\n",
      "                                    },\n",
      "                                 function(){\n",
      "                                    IPython.tooltip.expand();\n",
      "                                    IPython.notification_widget.set_message('tab again to make pager sticky for 10s',2500);\n",
      "                                    setTimeout(function(){\n",
      "                                        $('.tooltiptext pre').text(\"Now the tooltip is expanded !\\\n",
      "                                          \\n\\nThis is really usefull if you have long docstring and if you want to be able to scroll them. \\\n",
      "For example, I can give you many information about the tooltip:\\n - The tooltip is smart, and \\\n",
      "you don't always need to press tab to invoke it, if you press an opening bracket `(` then nothing \\\n",
      "for some time, tooltip will be invoked by itself.\\\n",
      "\\n - Also you can hoover over the icon on the top right to know what they are dooing...\\\n",
      "\\n\\nBack to the next lesson.\\n\\nSometime you need to the tooltip to stay on screen while\\\n",
      "you type. That's the reason for the sticky mode (indicated by a small clock on the top left of the tooltip),\\\n",
      "\\n\\nNow press <tab> a 3rd time and continue typing some text to test it...\")\n",
      "                                            },400);\n",
      "                                 },\n",
      "                                 function(){\n",
      "                                     var time = 35;\n",
      "                                     IPython.tooltip.stick(time);\n",
      "                                     $('.tooltiptext pre').text(\"Type more text !...\\n\\n range(7,125,3)\\n\\n The tooltip is in sticky mode, it won't be dismissed for at least 10 secondes \",400);\n",
      "                                     setTimeout(function(){\n",
      "                                         $('.tooltiptext pre').text(\"That was sticky mode...\\nI'll keep it on 15 more seconds just for you.\\n\\nLast thing you can do is send the current help displayed in the tooltip to the pager at the bottom of the screen. To do that, press tab 4 time in a row after a parenthesis. \\n\\n Now I'll stop bothering you and let you Play with the tooltip !\");\n",
      "                                         reset_tooltip()\n",
      "                                            },15000);\n",
      "                                 },\n",
      "                                 function(cell){\n",
      "                                    IPython.tooltip.cancel_stick();\n",
      "                                    reset_tooltip()\n",
      "                                    IPython.tooltip.showInPager(cell);\n",
      "                                    IPython.tooltip._cmfocus();\n",
      "                                    }\n",
      "                                ];\n",
      "    \n",
      "    reset_tooltip = function(){\n",
      "    IPython.tooltip.tabs_functions = [  function(cell,text){\n",
      "                                    IPython.tooltip._request_tooltip(cell,text);\n",
      "                                    IPython.notification_widget.set_message('tab again to expand pager',2500);\n",
      "                                    },\n",
      "                                 function(){\n",
      "                                    IPython.tooltip.expand();\n",
      "                                    IPython.notification_widget.set_message('tab again to make pager sticky for 10s',2500);\n",
      "                                 },\n",
      "                                 function(){\n",
      "                                     IPython.tooltip.stick();\n",
      "                                     IPython.notification_widget.set_message('tab again to open help in pager',2500);\n",
      "                                 },\n",
      "                                 function(cell){\n",
      "                                    IPython.tooltip.cancel_stick();\n",
      "                                    IPython.tooltip.showInPager(cell);\n",
      "                                    IPython.tooltip._cmfocus();\n",
      "                                    }\n",
      "                                ];\n",
      "    }\n",
      "</script>"
     ]
    },
    {
     "cell_type": "heading",
     "level": 2,
     "metadata": {},
     "source": [
      "The frontend/kernel model"
     ]
    },
    {
     "cell_type": "markdown",
     "metadata": {},
     "source": [
      "The IPython notebook works on a client/server model where an *IPython kernel*\n",
      "starts in a separate process and acts as a server to executes the code you type,\n",
      "while the web browser provides acts as a client, providing a front end environment\n",
      "for you to type.  But one kernel is capable of simultaneously talking to more than\n",
      "one client, and they do not all need to be of the same kind.  All IPython frontends\n",
      "are capable of communicating with a kernel, and any number of them can be active\n",
      "at the same time.  In addition to allowing you to have, for example, more than one\n",
      "browser session active, this lets you connect clients with different user interface features.\n",
      "\n",
      "For example, you may want to connect a Qt console to your kernel and use it as a help\n",
      "browser, calling `jQuery17109410563793499023_1356898410529` on objects in the Qt console (whose pager is more flexible than the\n",
      "one in the notebook).  You can start a new Qt console connected to your current kernel by \n",
      "using the `%qtconsole` magic, this will automatically detect the necessary connection\n",
      "information.\n",
      "\n",
      "If you want to open one manually, or want to open a text console from a terminal, you can \n",
      "get your kernel's connection information with the `%connect_info` magic:"
     ]
    },
    {
     "cell_type": "code",
     "collapsed": false,
     "input": [
      "%connect_info"
     ],
     "language": "python",
     "metadata": {},
     "outputs": []
    },
    {
     "cell_type": "heading",
     "level": 2,
     "metadata": {},
     "source": [
      "The kernel's `raw_input` and `%debug`"
     ]
    },
    {
     "cell_type": "markdown",
     "metadata": {},
     "source": [
      "The one feature the notebook currently doesn't support as a client is the ability to send data to the kernel's\n",
      "standard input socket.  That is, if the kernel requires information to be typed interactively by calling the\n",
      "builtin `raw_input` function, the notebook will be blocked.  This happens for example if you run a script\n",
      "that queries interactively for parameters, and very importantly, is how the interactive IPython debugger that \n",
      "activates when you type `%debug` works.\n",
      "\n",
      "So, in order to be able to use `%debug` or anything else that requires `raw_input`, you can either use a Qt \n",
      "console or a terminal console:\n",
      "\n",
      "- From the notebook, typing `%qtconsole` finds all the necessary connection data for you.\n",
      "- From the terminal, first type `%connect_info` while still in the notebook, and then copy and paste the \n",
      "resulting information, using `qtconsole` or `console` depending on which type of client you want."
     ]
    },
    {
     "cell_type": "heading",
     "level": 2,
     "metadata": {},
     "source": [
      "Display of complex objects"
     ]
    },
    {
     "cell_type": "markdown",
     "metadata": {},
     "source": [
      "As the 'tour' notebook shows, the IPython notebook has fairly sophisticated display capabilities.  In addition\n",
      "to the examples there, you can study the `display_protocol` notebook in this same examples folder, to \n",
      "learn how to customize arbitrary objects (in your own code or external libraries) to display in the notebook\n",
      "in any way you want, including graphical forms or mathematical expressions."
     ]
    },
    {
     "cell_type": "heading",
     "level": 2,
     "metadata": {},
     "source": [
      "Plotting support"
     ]
    },
    {
     "cell_type": "markdown",
     "metadata": {},
     "source": [
      "As we've explained already, the notebook is just another frontend talking to the same IPython kernel that\n",
      "you're familiar with, so the same options for plotting support apply.\n",
      "\n",
      "You can enable inline plotting with `%pylab inline`:"
     ]
    },
    {
     "cell_type": "code",
     "collapsed": false,
     "input": [
      "%pylab inline"
     ],
     "language": "python",
     "metadata": {},
     "outputs": []
    },
    {
     "cell_type": "markdown",
     "metadata": {},
     "source": [
      "If you start the notebook server itself with `--pylab`, you will get matplotlib's floating, interactive windows and you\n",
      "can call the `display` function to paste figures into the notebook document.  If you start it with \n",
      "`--pylab inline`, all plots will appear inline automatically.  In this regard, the notebook works identically\n",
      "to the Qt console.\n",
      "\n",
      "Note that if you start the notebook server with pylab support, *all* kernels are automatically started in\n",
      "pylab mode and with the same choice of backend (i.e. floating windows or inline figures).\n",
      "For this reason, it is recommended that you\n",
      "start the notebook server simply by typing `ipython notebook`, and then selectively turn on pylab support \n",
      "only for the notebooks you want by using the `%pylab` magic (see its docstring for details)."
     ]
    },
    {
     "cell_type": "code",
     "collapsed": false,
     "input": [
      "plot(rand(100))"
     ],
     "language": "python",
     "metadata": {},
     "outputs": []
    },
    {
     "cell_type": "heading",
     "level": 2,
     "metadata": {},
     "source": [
      "Security"
     ]
    },
    {
     "cell_type": "markdown",
     "metadata": {},
     "source": [
      "By default the notebook only listens on localhost, so it does not expose your computer to attacks coming from\n",
      "the internet.  By default the notebook does not require any authentication, but you can configure it to\n",
      "ask for a password before allowing access to the files.  \n",
      "\n",
      "Furthermore, you can require the notebook to encrypt all communications by using SSL and making all connections\n",
      "using the https protocol instead of plain http.  This is a good idea if you decide to run your notebook on\n",
      "addresses that are visible from the internet.  For further details on how to configure this, see the\n",
      "[security section](http://ipython.org/ipython-doc/stable/interactive/htmlnotebook.html#security) of the \n",
      "manual.\n",
      "\n",
      "Finally, note that you can also run a notebook with the `--read-only` flag, which lets you provide access\n",
      "to your notebook documents to others without letting them execute code (which can be useful to broadcast\n",
      "a computation to colleagues or students, for example).  The read-only flag behaves differently depending\n",
      "on whether the server has a password or not:\n",
      "\n",
      "- Passwordless server: users directly see all notebooks in read-only mode.\n",
      "- Password-protected server: users can see all notebooks in read-only mode, but a login button is available\n",
      "and once a user authenticates, he or she obtains write/execute privileges.\n",
      "\n",
      "The first case above makes it easy to broadcast on the fly an existing notebook by simply starting a *second* \n",
      "notebook server in the same directory as the first, but in read-only mode.  This can be done without having\n",
      "to configure a password first (which requires calling a hashing function and editing a configuration file).\n",
      "\n",
      "**NOTE:**  IPython 0.13's javascript rewrite did not include read-only UI, so it does not work well.\n",
      "Code/notebooks are still protected from unauthorized access, but the UI is not appropriately restricted."
     ]
    },
    {
     "cell_type": "markdown",
     "metadata": {},
     "source": [
      "<script type=\"text/javascript\">\n",
      "    $('div.input').hide();\n",
      "</script>"
     ]
    }
   ],
   "metadata": {}
  }
 ]
}