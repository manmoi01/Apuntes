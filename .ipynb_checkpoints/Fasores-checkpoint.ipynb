{
 "metadata": {
  "name": "",
  "signature": "sha256:395995326e59d192a963ac07950e7e34701208c258ad3212f38226158f7f8325"
 },
 "nbformat": 3,
 "nbformat_minor": 0,
 "worksheets": [
  {
   "cells": [
    {
     "cell_type": "markdown",
     "metadata": {},
     "source": [
      "#Fasores\n",
      "Un fasor es una representaci\u00f3n gr\u00e1fica de un n\u00famero complejo que se utiliza para representar una oscilaci\u00f3n"
     ]
    },
    {
     "cell_type": "code",
     "collapsed": false,
     "input": [],
     "language": "python",
     "metadata": {},
     "outputs": []
    }
   ],
   "metadata": {}
  }
 ]
}