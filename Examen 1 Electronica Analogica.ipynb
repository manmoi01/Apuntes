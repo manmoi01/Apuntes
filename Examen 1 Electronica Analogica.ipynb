{
 "metadata": {
  "name": ""
 },
 "nbformat": 3,
 "nbformat_minor": 0,
 "worksheets": [
  {
   "cells": [
    {
     "cell_type": "markdown",
     "metadata": {},
     "source": [
      "#Examen Parcial 1\n",
      "\n",
      "Nombre:\n",
      "\n",
      "Matricula:"
     ]
    },
    {
     "cell_type": "markdown",
     "metadata": {},
     "source": [
      "##Preguntas\n",
      "\n",
      "1. \u00bfQu\u00e9 es el efecto termoionico de Edison?\n",
      "2. \u00bfC\u00f3mo se usa el efecto termoionico de Edison en el diodo de vacio?\n",
      "3. \u00bfC\u00faal es el circuito equivalente de un diodo?\n",
      "4. \u00bfQu\u00e9 desventajas presenta los diodos de vacio?\n",
      "5. \u00bfQu\u00e9 es un semiconductor?\n",
      "6. \u00bfCual es el funcionamiento de un diodo semiconductor?\n",
      "7. \u00bfQu\u00e9 es el efecto avalancha y el efecto zenner?\n",
      "8. Describa el funcionamiento por lo menos 3 tipos de diodos diferentes al diodo de union PN\n",
      "\n"
     ]
    },
    {
     "cell_type": "markdown",
     "metadata": {},
     "source": [
      "##Ejercicio 1\n",
      "En el circuito de la imagen calcule la corriente $i_{d}$, si el voltaje de entrada $V_{i}$ corresponde al mes de su nacimiento, y el valor de la resistencia $R$ al dia de su nacimiento por 100.\n",
      "\n",
      "![Circuito con un diodo](/files/images/diodosimple.png \"Circuito con un diodo\")"
     ]
    },
    {
     "cell_type": "markdown",
     "metadata": {},
     "source": [
      "##Ejercicio 2"
     ]
    },
    {
     "cell_type": "markdown",
     "metadata": {},
     "source": [
      "Usando un transformador dise\u00f1e un circuito  con un voltaje de entrada de  170V, que la salida entrege una se\u00f1al de DC de 5V con un voltaje de rizo $V_{r}$ de menos de 0.5V, con un periodo $T=1/60$, para el voltaje de rizo utilizar la siguiente expresi\u00f3n:\n",
      "\n",
      "\\begin{equation}\\label{eq:vr3}\n",
      "V_{r} \\leq V_{m}\\frac{T}{RC}\n",
      "\\end{equation}"
     ]
    }
   ],
   "metadata": {}
  }
 ]
}